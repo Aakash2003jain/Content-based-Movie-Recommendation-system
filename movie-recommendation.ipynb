{
 "cells": [
  {
   "cell_type": "code",
   "execution_count": 2,
   "id": "579fd13b",
   "metadata": {
    "_cell_guid": "b1076dfc-b9ad-4769-8c92-a6c4dae69d19",
    "_uuid": "8f2839f25d086af736a60e9eeb907d3b93b6e0e5",
    "execution": {
     "iopub.execute_input": "2023-10-13T15:27:28.506800Z",
     "iopub.status.busy": "2023-10-13T15:27:28.506478Z",
     "iopub.status.idle": "2023-10-13T15:27:28.867527Z",
     "shell.execute_reply": "2023-10-13T15:27:28.866049Z"
    },
    "papermill": {
     "duration": 0.376322,
     "end_time": "2023-10-13T15:27:28.870516",
     "exception": false,
     "start_time": "2023-10-13T15:27:28.494194",
     "status": "completed"
    },
    "tags": []
   },
   "outputs": [],
   "source": [
    "import numpy as np \n",
    "import pandas as pd \n",
    "import os\n"
   ]
  },
  {
   "cell_type": "code",
   "execution_count": 3,
   "id": "5688bf92",
   "metadata": {
    "execution": {
     "iopub.execute_input": "2023-10-13T15:27:28.892441Z",
     "iopub.status.busy": "2023-10-13T15:27:28.891972Z",
     "iopub.status.idle": "2023-10-13T15:27:29.082065Z",
     "shell.execute_reply": "2023-10-13T15:27:29.081004Z"
    },
    "papermill": {
     "duration": 0.203195,
     "end_time": "2023-10-13T15:27:29.084345",
     "exception": false,
     "start_time": "2023-10-13T15:27:28.881150",
     "status": "completed"
    },
    "tags": []
   },
   "outputs": [],
   "source": [
    "movies=pd.read_csv(\"./tmdb_5000_movies.csv\")"
   ]
  },
  {
   "cell_type": "code",
   "execution_count": 4,
   "id": "539e2ac4",
   "metadata": {
    "execution": {
     "iopub.execute_input": "2023-10-13T15:27:29.108578Z",
     "iopub.status.busy": "2023-10-13T15:27:29.107917Z",
     "iopub.status.idle": "2023-10-13T15:27:29.864555Z",
     "shell.execute_reply": "2023-10-13T15:27:29.863655Z"
    },
    "papermill": {
     "duration": 0.770085,
     "end_time": "2023-10-13T15:27:29.866932",
     "exception": false,
     "start_time": "2023-10-13T15:27:29.096847",
     "status": "completed"
    },
    "tags": []
   },
   "outputs": [],
   "source": [
    "credits=pd.read_csv(\"./tmdb_5000_credits.csv\")"
   ]
  },
  {
   "cell_type": "code",
   "execution_count": 5,
   "id": "4c9cb1ed",
   "metadata": {
    "execution": {
     "iopub.execute_input": "2023-10-13T15:27:29.888022Z",
     "iopub.status.busy": "2023-10-13T15:27:29.887615Z",
     "iopub.status.idle": "2023-10-13T15:27:29.923923Z",
     "shell.execute_reply": "2023-10-13T15:27:29.922767Z"
    },
    "papermill": {
     "duration": 0.049637,
     "end_time": "2023-10-13T15:27:29.926303",
     "exception": false,
     "start_time": "2023-10-13T15:27:29.876666",
     "status": "completed"
    },
    "tags": []
   },
   "outputs": [
    {
     "data": {
      "text/html": [
       "<div>\n",
       "<style scoped>\n",
       "    .dataframe tbody tr th:only-of-type {\n",
       "        vertical-align: middle;\n",
       "    }\n",
       "\n",
       "    .dataframe tbody tr th {\n",
       "        vertical-align: top;\n",
       "    }\n",
       "\n",
       "    .dataframe thead th {\n",
       "        text-align: right;\n",
       "    }\n",
       "</style>\n",
       "<table border=\"1\" class=\"dataframe\">\n",
       "  <thead>\n",
       "    <tr style=\"text-align: right;\">\n",
       "      <th></th>\n",
       "      <th>budget</th>\n",
       "      <th>genres</th>\n",
       "      <th>homepage</th>\n",
       "      <th>id</th>\n",
       "      <th>keywords</th>\n",
       "      <th>original_language</th>\n",
       "      <th>original_title</th>\n",
       "      <th>overview</th>\n",
       "      <th>popularity</th>\n",
       "      <th>production_companies</th>\n",
       "      <th>production_countries</th>\n",
       "      <th>release_date</th>\n",
       "      <th>revenue</th>\n",
       "      <th>runtime</th>\n",
       "      <th>spoken_languages</th>\n",
       "      <th>status</th>\n",
       "      <th>tagline</th>\n",
       "      <th>title</th>\n",
       "      <th>vote_average</th>\n",
       "      <th>vote_count</th>\n",
       "    </tr>\n",
       "  </thead>\n",
       "  <tbody>\n",
       "    <tr>\n",
       "      <th>3486</th>\n",
       "      <td>0</td>\n",
       "      <td>[{\"id\": 9648, \"name\": \"Mystery\"}, {\"id\": 18, \"...</td>\n",
       "      <td>http://www.goddessoflovemovie.com/</td>\n",
       "      <td>347764</td>\n",
       "      <td>[]</td>\n",
       "      <td>en</td>\n",
       "      <td>Goddess of Love</td>\n",
       "      <td>Enter into a baroque vortex of madness when an...</td>\n",
       "      <td>1.273773</td>\n",
       "      <td>[{\"name\": \"Dalia Films\", \"id\": 72861}]</td>\n",
       "      <td>[{\"iso_3166_1\": \"CA\", \"name\": \"Canada\"}, {\"iso...</td>\n",
       "      <td>2015-08-31</td>\n",
       "      <td>0</td>\n",
       "      <td>96.0</td>\n",
       "      <td>[{\"iso_639_1\": \"en\", \"name\": \"English\"}, {\"iso...</td>\n",
       "      <td>Released</td>\n",
       "      <td>Be Careful Who You Get Close To</td>\n",
       "      <td>Goddess of Love</td>\n",
       "      <td>6.2</td>\n",
       "      <td>9</td>\n",
       "    </tr>\n",
       "    <tr>\n",
       "      <th>584</th>\n",
       "      <td>0</td>\n",
       "      <td>[{\"id\": 14, \"name\": \"Fantasy\"}]</td>\n",
       "      <td>NaN</td>\n",
       "      <td>10395</td>\n",
       "      <td>[{\"id\": 596, \"name\": \"adultery\"}, {\"id\": 2499,...</td>\n",
       "      <td>en</td>\n",
       "      <td>Wolf</td>\n",
       "      <td>Publisher Will Randall becomes a werewolf and ...</td>\n",
       "      <td>13.758526</td>\n",
       "      <td>[{\"name\": \"Columbia Pictures\", \"id\": 5}]</td>\n",
       "      <td>[{\"iso_3166_1\": \"US\", \"name\": \"United States o...</td>\n",
       "      <td>1994-06-17</td>\n",
       "      <td>0</td>\n",
       "      <td>125.0</td>\n",
       "      <td>[{\"iso_639_1\": \"en\", \"name\": \"English\"}]</td>\n",
       "      <td>Released</td>\n",
       "      <td>The animal is out.</td>\n",
       "      <td>Wolf</td>\n",
       "      <td>6.0</td>\n",
       "      <td>216</td>\n",
       "    </tr>\n",
       "    <tr>\n",
       "      <th>2776</th>\n",
       "      <td>13000000</td>\n",
       "      <td>[{\"id\": 18, \"name\": \"Drama\"}, {\"id\": 10749, \"n...</td>\n",
       "      <td>http://perks-of-being-a-wallflower.com/</td>\n",
       "      <td>84892</td>\n",
       "      <td>[{\"id\": 367, \"name\": \"shyness\"}, {\"id\": 1328, ...</td>\n",
       "      <td>en</td>\n",
       "      <td>The Perks of Being a Wallflower</td>\n",
       "      <td>A coming-of-age story based on the best-sellin...</td>\n",
       "      <td>43.444135</td>\n",
       "      <td>[{\"name\": \"Summit Entertainment\", \"id\": 491}, ...</td>\n",
       "      <td>[{\"iso_3166_1\": \"US\", \"name\": \"United States o...</td>\n",
       "      <td>2012-09-20</td>\n",
       "      <td>33400000</td>\n",
       "      <td>102.0</td>\n",
       "      <td>[{\"iso_639_1\": \"en\", \"name\": \"English\"}]</td>\n",
       "      <td>Released</td>\n",
       "      <td>We are infinite.</td>\n",
       "      <td>The Perks of Being a Wallflower</td>\n",
       "      <td>7.7</td>\n",
       "      <td>2968</td>\n",
       "    </tr>\n",
       "    <tr>\n",
       "      <th>4141</th>\n",
       "      <td>2000000</td>\n",
       "      <td>[{\"id\": 35, \"name\": \"Comedy\"}]</td>\n",
       "      <td>NaN</td>\n",
       "      <td>11302</td>\n",
       "      <td>[{\"id\": 2020, \"name\": \"revolution\"}, {\"id\": 23...</td>\n",
       "      <td>en</td>\n",
       "      <td>Bananas</td>\n",
       "      <td>When a bumbling New Yorker is dumped by his ac...</td>\n",
       "      <td>5.941852</td>\n",
       "      <td>[{\"name\": \"United Artists\", \"id\": 60}, {\"name\"...</td>\n",
       "      <td>[{\"iso_3166_1\": \"US\", \"name\": \"United States o...</td>\n",
       "      <td>1971-04-28</td>\n",
       "      <td>11833696</td>\n",
       "      <td>82.0</td>\n",
       "      <td>[{\"iso_639_1\": \"yi\", \"name\": \"\"}, {\"iso_639_1\"...</td>\n",
       "      <td>Released</td>\n",
       "      <td>NaN</td>\n",
       "      <td>Bananas</td>\n",
       "      <td>6.7</td>\n",
       "      <td>165</td>\n",
       "    </tr>\n",
       "    <tr>\n",
       "      <th>2068</th>\n",
       "      <td>9000000</td>\n",
       "      <td>[{\"id\": 35, \"name\": \"Comedy\"}, {\"id\": 18, \"nam...</td>\n",
       "      <td>http://www.deathatafuneral-themovie.com/</td>\n",
       "      <td>2196</td>\n",
       "      <td>[{\"id\": 380, \"name\": \"brother brother relation...</td>\n",
       "      <td>en</td>\n",
       "      <td>Death at a Funeral</td>\n",
       "      <td>Chaos ensues when a man tries to expose a dark...</td>\n",
       "      <td>20.410354</td>\n",
       "      <td>[{\"name\": \"Sidney Kimmel Entertainment\", \"id\":...</td>\n",
       "      <td>[{\"iso_3166_1\": \"GB\", \"name\": \"United Kingdom\"}]</td>\n",
       "      <td>2007-02-09</td>\n",
       "      <td>46</td>\n",
       "      <td>90.0</td>\n",
       "      <td>[{\"iso_639_1\": \"en\", \"name\": \"English\"}]</td>\n",
       "      <td>Released</td>\n",
       "      <td>From director Frank Oz comes the story of a fa...</td>\n",
       "      <td>Death at a Funeral</td>\n",
       "      <td>6.9</td>\n",
       "      <td>497</td>\n",
       "    </tr>\n",
       "  </tbody>\n",
       "</table>\n",
       "</div>"
      ],
      "text/plain": [
       "        budget                                             genres  \\\n",
       "3486         0  [{\"id\": 9648, \"name\": \"Mystery\"}, {\"id\": 18, \"...   \n",
       "584          0                    [{\"id\": 14, \"name\": \"Fantasy\"}]   \n",
       "2776  13000000  [{\"id\": 18, \"name\": \"Drama\"}, {\"id\": 10749, \"n...   \n",
       "4141   2000000                     [{\"id\": 35, \"name\": \"Comedy\"}]   \n",
       "2068   9000000  [{\"id\": 35, \"name\": \"Comedy\"}, {\"id\": 18, \"nam...   \n",
       "\n",
       "                                      homepage      id  \\\n",
       "3486        http://www.goddessoflovemovie.com/  347764   \n",
       "584                                        NaN   10395   \n",
       "2776   http://perks-of-being-a-wallflower.com/   84892   \n",
       "4141                                       NaN   11302   \n",
       "2068  http://www.deathatafuneral-themovie.com/    2196   \n",
       "\n",
       "                                               keywords original_language  \\\n",
       "3486                                                 []                en   \n",
       "584   [{\"id\": 596, \"name\": \"adultery\"}, {\"id\": 2499,...                en   \n",
       "2776  [{\"id\": 367, \"name\": \"shyness\"}, {\"id\": 1328, ...                en   \n",
       "4141  [{\"id\": 2020, \"name\": \"revolution\"}, {\"id\": 23...                en   \n",
       "2068  [{\"id\": 380, \"name\": \"brother brother relation...                en   \n",
       "\n",
       "                       original_title  \\\n",
       "3486                  Goddess of Love   \n",
       "584                              Wolf   \n",
       "2776  The Perks of Being a Wallflower   \n",
       "4141                          Bananas   \n",
       "2068               Death at a Funeral   \n",
       "\n",
       "                                               overview  popularity  \\\n",
       "3486  Enter into a baroque vortex of madness when an...    1.273773   \n",
       "584   Publisher Will Randall becomes a werewolf and ...   13.758526   \n",
       "2776  A coming-of-age story based on the best-sellin...   43.444135   \n",
       "4141  When a bumbling New Yorker is dumped by his ac...    5.941852   \n",
       "2068  Chaos ensues when a man tries to expose a dark...   20.410354   \n",
       "\n",
       "                                   production_companies  \\\n",
       "3486             [{\"name\": \"Dalia Films\", \"id\": 72861}]   \n",
       "584            [{\"name\": \"Columbia Pictures\", \"id\": 5}]   \n",
       "2776  [{\"name\": \"Summit Entertainment\", \"id\": 491}, ...   \n",
       "4141  [{\"name\": \"United Artists\", \"id\": 60}, {\"name\"...   \n",
       "2068  [{\"name\": \"Sidney Kimmel Entertainment\", \"id\":...   \n",
       "\n",
       "                                   production_countries release_date  \\\n",
       "3486  [{\"iso_3166_1\": \"CA\", \"name\": \"Canada\"}, {\"iso...   2015-08-31   \n",
       "584   [{\"iso_3166_1\": \"US\", \"name\": \"United States o...   1994-06-17   \n",
       "2776  [{\"iso_3166_1\": \"US\", \"name\": \"United States o...   2012-09-20   \n",
       "4141  [{\"iso_3166_1\": \"US\", \"name\": \"United States o...   1971-04-28   \n",
       "2068   [{\"iso_3166_1\": \"GB\", \"name\": \"United Kingdom\"}]   2007-02-09   \n",
       "\n",
       "       revenue  runtime                                   spoken_languages  \\\n",
       "3486         0     96.0  [{\"iso_639_1\": \"en\", \"name\": \"English\"}, {\"iso...   \n",
       "584          0    125.0           [{\"iso_639_1\": \"en\", \"name\": \"English\"}]   \n",
       "2776  33400000    102.0           [{\"iso_639_1\": \"en\", \"name\": \"English\"}]   \n",
       "4141  11833696     82.0  [{\"iso_639_1\": \"yi\", \"name\": \"\"}, {\"iso_639_1\"...   \n",
       "2068        46     90.0           [{\"iso_639_1\": \"en\", \"name\": \"English\"}]   \n",
       "\n",
       "        status                                            tagline  \\\n",
       "3486  Released                    Be Careful Who You Get Close To   \n",
       "584   Released                                 The animal is out.   \n",
       "2776  Released                                   We are infinite.   \n",
       "4141  Released                                                NaN   \n",
       "2068  Released  From director Frank Oz comes the story of a fa...   \n",
       "\n",
       "                                title  vote_average  vote_count  \n",
       "3486                  Goddess of Love           6.2           9  \n",
       "584                              Wolf           6.0         216  \n",
       "2776  The Perks of Being a Wallflower           7.7        2968  \n",
       "4141                          Bananas           6.7         165  \n",
       "2068               Death at a Funeral           6.9         497  "
      ]
     },
     "execution_count": 5,
     "metadata": {},
     "output_type": "execute_result"
    }
   ],
   "source": [
    "movies.sample(5)"
   ]
  },
  {
   "cell_type": "code",
   "execution_count": 6,
   "id": "b39923f7",
   "metadata": {
    "execution": {
     "iopub.execute_input": "2023-10-13T15:27:29.948638Z",
     "iopub.status.busy": "2023-10-13T15:27:29.948303Z",
     "iopub.status.idle": "2023-10-13T15:27:29.954743Z",
     "shell.execute_reply": "2023-10-13T15:27:29.953591Z"
    },
    "papermill": {
     "duration": 0.020226,
     "end_time": "2023-10-13T15:27:29.956809",
     "exception": false,
     "start_time": "2023-10-13T15:27:29.936583",
     "status": "completed"
    },
    "tags": []
   },
   "outputs": [
    {
     "data": {
      "text/plain": [
       "Index(['budget', 'genres', 'homepage', 'id', 'keywords', 'original_language',\n",
       "       'original_title', 'overview', 'popularity', 'production_companies',\n",
       "       'production_countries', 'release_date', 'revenue', 'runtime',\n",
       "       'spoken_languages', 'status', 'tagline', 'title', 'vote_average',\n",
       "       'vote_count'],\n",
       "      dtype='object')"
      ]
     },
     "execution_count": 6,
     "metadata": {},
     "output_type": "execute_result"
    }
   ],
   "source": [
    "movies.columns"
   ]
  },
  {
   "cell_type": "code",
   "execution_count": 7,
   "id": "ad2b8b70",
   "metadata": {
    "execution": {
     "iopub.execute_input": "2023-10-13T15:27:29.979451Z",
     "iopub.status.busy": "2023-10-13T15:27:29.979129Z",
     "iopub.status.idle": "2023-10-13T15:27:29.988034Z",
     "shell.execute_reply": "2023-10-13T15:27:29.986912Z"
    },
    "papermill": {
     "duration": 0.02265,
     "end_time": "2023-10-13T15:27:29.990119",
     "exception": false,
     "start_time": "2023-10-13T15:27:29.967469",
     "status": "completed"
    },
    "tags": []
   },
   "outputs": [
    {
     "data": {
      "text/plain": [
       "0                                         Avatar\n",
       "1       Pirates of the Caribbean: At World's End\n",
       "2                                        Spectre\n",
       "3                          The Dark Knight Rises\n",
       "4                                    John Carter\n",
       "                          ...                   \n",
       "4798                                 El Mariachi\n",
       "4799                                   Newlyweds\n",
       "4800                   Signed, Sealed, Delivered\n",
       "4801                            Shanghai Calling\n",
       "4802                           My Date with Drew\n",
       "Name: title, Length: 4803, dtype: object"
      ]
     },
     "execution_count": 7,
     "metadata": {},
     "output_type": "execute_result"
    }
   ],
   "source": [
    "movies['title']"
   ]
  },
  {
   "cell_type": "code",
   "execution_count": 8,
   "id": "ade737a4",
   "metadata": {
    "execution": {
     "iopub.execute_input": "2023-10-13T15:27:30.013059Z",
     "iopub.status.busy": "2023-10-13T15:27:30.012673Z",
     "iopub.status.idle": "2023-10-13T15:27:30.018439Z",
     "shell.execute_reply": "2023-10-13T15:27:30.017427Z"
    },
    "papermill": {
     "duration": 0.019803,
     "end_time": "2023-10-13T15:27:30.020509",
     "exception": false,
     "start_time": "2023-10-13T15:27:30.000706",
     "status": "completed"
    },
    "tags": []
   },
   "outputs": [
    {
     "data": {
      "text/plain": [
       "Index(['movie_id', 'title', 'cast', 'crew'], dtype='object')"
      ]
     },
     "execution_count": 8,
     "metadata": {},
     "output_type": "execute_result"
    }
   ],
   "source": [
    "credits.columns"
   ]
  },
  {
   "cell_type": "code",
   "execution_count": 9,
   "id": "2d4d1fa0",
   "metadata": {
    "execution": {
     "iopub.execute_input": "2023-10-13T15:27:30.043120Z",
     "iopub.status.busy": "2023-10-13T15:27:30.042737Z",
     "iopub.status.idle": "2023-10-13T15:27:30.053789Z",
     "shell.execute_reply": "2023-10-13T15:27:30.052584Z"
    },
    "papermill": {
     "duration": 0.025227,
     "end_time": "2023-10-13T15:27:30.056243",
     "exception": false,
     "start_time": "2023-10-13T15:27:30.031016",
     "status": "completed"
    },
    "tags": []
   },
   "outputs": [
    {
     "data": {
      "text/html": [
       "<div>\n",
       "<style scoped>\n",
       "    .dataframe tbody tr th:only-of-type {\n",
       "        vertical-align: middle;\n",
       "    }\n",
       "\n",
       "    .dataframe tbody tr th {\n",
       "        vertical-align: top;\n",
       "    }\n",
       "\n",
       "    .dataframe thead th {\n",
       "        text-align: right;\n",
       "    }\n",
       "</style>\n",
       "<table border=\"1\" class=\"dataframe\">\n",
       "  <thead>\n",
       "    <tr style=\"text-align: right;\">\n",
       "      <th></th>\n",
       "      <th>movie_id</th>\n",
       "      <th>title</th>\n",
       "      <th>cast</th>\n",
       "      <th>crew</th>\n",
       "    </tr>\n",
       "  </thead>\n",
       "  <tbody>\n",
       "    <tr>\n",
       "      <th>3312</th>\n",
       "      <td>1691</td>\n",
       "      <td>Hostel: Part II</td>\n",
       "      <td>[{\"cast_id\": 13, \"character\": \"Beth\", \"credit_...</td>\n",
       "      <td>[{\"credit_id\": \"595e5038c3a3680dec05e5d7\", \"de...</td>\n",
       "    </tr>\n",
       "    <tr>\n",
       "      <th>1786</th>\n",
       "      <td>1551</td>\n",
       "      <td>Flatliners</td>\n",
       "      <td>[{\"cast_id\": 1, \"character\": \"Nelson\", \"credit...</td>\n",
       "      <td>[{\"credit_id\": \"564888e09251413e7f006ed4\", \"de...</td>\n",
       "    </tr>\n",
       "    <tr>\n",
       "      <th>2741</th>\n",
       "      <td>9644</td>\n",
       "      <td>National Lampoon's Loaded Weapon 1</td>\n",
       "      <td>[{\"cast_id\": 12, \"character\": \"Sgt. Jack Colt\"...</td>\n",
       "      <td>[{\"credit_id\": \"52fe4515c3a36847f80bb8c9\", \"de...</td>\n",
       "    </tr>\n",
       "    <tr>\n",
       "      <th>4521</th>\n",
       "      <td>14271</td>\n",
       "      <td>Beyond the Mat</td>\n",
       "      <td>[{\"cast_id\": 1, \"character\": \"Himself\", \"credi...</td>\n",
       "      <td>[{\"credit_id\": \"58d5ec49c3a368127c03493c\", \"de...</td>\n",
       "    </tr>\n",
       "    <tr>\n",
       "      <th>2591</th>\n",
       "      <td>37003</td>\n",
       "      <td>U2 3D</td>\n",
       "      <td>[{\"cast_id\": 0, \"character\": \"Himself\", \"credi...</td>\n",
       "      <td>[{\"credit_id\": \"57bfd2089251414b1500001e\", \"de...</td>\n",
       "    </tr>\n",
       "  </tbody>\n",
       "</table>\n",
       "</div>"
      ],
      "text/plain": [
       "      movie_id                               title  \\\n",
       "3312      1691                     Hostel: Part II   \n",
       "1786      1551                          Flatliners   \n",
       "2741      9644  National Lampoon's Loaded Weapon 1   \n",
       "4521     14271                      Beyond the Mat   \n",
       "2591     37003                               U2 3D   \n",
       "\n",
       "                                                   cast  \\\n",
       "3312  [{\"cast_id\": 13, \"character\": \"Beth\", \"credit_...   \n",
       "1786  [{\"cast_id\": 1, \"character\": \"Nelson\", \"credit...   \n",
       "2741  [{\"cast_id\": 12, \"character\": \"Sgt. Jack Colt\"...   \n",
       "4521  [{\"cast_id\": 1, \"character\": \"Himself\", \"credi...   \n",
       "2591  [{\"cast_id\": 0, \"character\": \"Himself\", \"credi...   \n",
       "\n",
       "                                                   crew  \n",
       "3312  [{\"credit_id\": \"595e5038c3a3680dec05e5d7\", \"de...  \n",
       "1786  [{\"credit_id\": \"564888e09251413e7f006ed4\", \"de...  \n",
       "2741  [{\"credit_id\": \"52fe4515c3a36847f80bb8c9\", \"de...  \n",
       "4521  [{\"credit_id\": \"58d5ec49c3a368127c03493c\", \"de...  \n",
       "2591  [{\"credit_id\": \"57bfd2089251414b1500001e\", \"de...  "
      ]
     },
     "execution_count": 9,
     "metadata": {},
     "output_type": "execute_result"
    }
   ],
   "source": [
    "credits.sample(5)"
   ]
  },
  {
   "cell_type": "code",
   "execution_count": 10,
   "id": "c3016aad",
   "metadata": {
    "execution": {
     "iopub.execute_input": "2023-10-13T15:27:30.079995Z",
     "iopub.status.busy": "2023-10-13T15:27:30.079633Z",
     "iopub.status.idle": "2023-10-13T15:27:30.135217Z",
     "shell.execute_reply": "2023-10-13T15:27:30.134182Z"
    },
    "papermill": {
     "duration": 0.070563,
     "end_time": "2023-10-13T15:27:30.137710",
     "exception": false,
     "start_time": "2023-10-13T15:27:30.067147",
     "status": "completed"
    },
    "tags": []
   },
   "outputs": [
    {
     "data": {
      "text/html": [
       "<div>\n",
       "<style scoped>\n",
       "    .dataframe tbody tr th:only-of-type {\n",
       "        vertical-align: middle;\n",
       "    }\n",
       "\n",
       "    .dataframe tbody tr th {\n",
       "        vertical-align: top;\n",
       "    }\n",
       "\n",
       "    .dataframe thead th {\n",
       "        text-align: right;\n",
       "    }\n",
       "</style>\n",
       "<table border=\"1\" class=\"dataframe\">\n",
       "  <thead>\n",
       "    <tr style=\"text-align: right;\">\n",
       "      <th></th>\n",
       "      <th>budget</th>\n",
       "      <th>genres</th>\n",
       "      <th>homepage</th>\n",
       "      <th>id</th>\n",
       "      <th>keywords</th>\n",
       "      <th>original_language</th>\n",
       "      <th>original_title</th>\n",
       "      <th>overview</th>\n",
       "      <th>popularity</th>\n",
       "      <th>production_companies</th>\n",
       "      <th>...</th>\n",
       "      <th>runtime</th>\n",
       "      <th>spoken_languages</th>\n",
       "      <th>status</th>\n",
       "      <th>tagline</th>\n",
       "      <th>title</th>\n",
       "      <th>vote_average</th>\n",
       "      <th>vote_count</th>\n",
       "      <th>movie_id</th>\n",
       "      <th>cast</th>\n",
       "      <th>crew</th>\n",
       "    </tr>\n",
       "  </thead>\n",
       "  <tbody>\n",
       "    <tr>\n",
       "      <th>0</th>\n",
       "      <td>237000000</td>\n",
       "      <td>[{\"id\": 28, \"name\": \"Action\"}, {\"id\": 12, \"nam...</td>\n",
       "      <td>http://www.avatarmovie.com/</td>\n",
       "      <td>19995</td>\n",
       "      <td>[{\"id\": 1463, \"name\": \"culture clash\"}, {\"id\":...</td>\n",
       "      <td>en</td>\n",
       "      <td>Avatar</td>\n",
       "      <td>In the 22nd century, a paraplegic Marine is di...</td>\n",
       "      <td>150.437577</td>\n",
       "      <td>[{\"name\": \"Ingenious Film Partners\", \"id\": 289...</td>\n",
       "      <td>...</td>\n",
       "      <td>162.0</td>\n",
       "      <td>[{\"iso_639_1\": \"en\", \"name\": \"English\"}, {\"iso...</td>\n",
       "      <td>Released</td>\n",
       "      <td>Enter the World of Pandora.</td>\n",
       "      <td>Avatar</td>\n",
       "      <td>7.2</td>\n",
       "      <td>11800</td>\n",
       "      <td>19995</td>\n",
       "      <td>[{\"cast_id\": 242, \"character\": \"Jake Sully\", \"...</td>\n",
       "      <td>[{\"credit_id\": \"52fe48009251416c750aca23\", \"de...</td>\n",
       "    </tr>\n",
       "    <tr>\n",
       "      <th>1</th>\n",
       "      <td>300000000</td>\n",
       "      <td>[{\"id\": 12, \"name\": \"Adventure\"}, {\"id\": 14, \"...</td>\n",
       "      <td>http://disney.go.com/disneypictures/pirates/</td>\n",
       "      <td>285</td>\n",
       "      <td>[{\"id\": 270, \"name\": \"ocean\"}, {\"id\": 726, \"na...</td>\n",
       "      <td>en</td>\n",
       "      <td>Pirates of the Caribbean: At World's End</td>\n",
       "      <td>Captain Barbossa, long believed to be dead, ha...</td>\n",
       "      <td>139.082615</td>\n",
       "      <td>[{\"name\": \"Walt Disney Pictures\", \"id\": 2}, {\"...</td>\n",
       "      <td>...</td>\n",
       "      <td>169.0</td>\n",
       "      <td>[{\"iso_639_1\": \"en\", \"name\": \"English\"}]</td>\n",
       "      <td>Released</td>\n",
       "      <td>At the end of the world, the adventure begins.</td>\n",
       "      <td>Pirates of the Caribbean: At World's End</td>\n",
       "      <td>6.9</td>\n",
       "      <td>4500</td>\n",
       "      <td>285</td>\n",
       "      <td>[{\"cast_id\": 4, \"character\": \"Captain Jack Spa...</td>\n",
       "      <td>[{\"credit_id\": \"52fe4232c3a36847f800b579\", \"de...</td>\n",
       "    </tr>\n",
       "    <tr>\n",
       "      <th>2</th>\n",
       "      <td>245000000</td>\n",
       "      <td>[{\"id\": 28, \"name\": \"Action\"}, {\"id\": 12, \"nam...</td>\n",
       "      <td>http://www.sonypictures.com/movies/spectre/</td>\n",
       "      <td>206647</td>\n",
       "      <td>[{\"id\": 470, \"name\": \"spy\"}, {\"id\": 818, \"name...</td>\n",
       "      <td>en</td>\n",
       "      <td>Spectre</td>\n",
       "      <td>A cryptic message from Bond’s past sends him o...</td>\n",
       "      <td>107.376788</td>\n",
       "      <td>[{\"name\": \"Columbia Pictures\", \"id\": 5}, {\"nam...</td>\n",
       "      <td>...</td>\n",
       "      <td>148.0</td>\n",
       "      <td>[{\"iso_639_1\": \"fr\", \"name\": \"Fran\\u00e7ais\"},...</td>\n",
       "      <td>Released</td>\n",
       "      <td>A Plan No One Escapes</td>\n",
       "      <td>Spectre</td>\n",
       "      <td>6.3</td>\n",
       "      <td>4466</td>\n",
       "      <td>206647</td>\n",
       "      <td>[{\"cast_id\": 1, \"character\": \"James Bond\", \"cr...</td>\n",
       "      <td>[{\"credit_id\": \"54805967c3a36829b5002c41\", \"de...</td>\n",
       "    </tr>\n",
       "    <tr>\n",
       "      <th>3</th>\n",
       "      <td>250000000</td>\n",
       "      <td>[{\"id\": 28, \"name\": \"Action\"}, {\"id\": 80, \"nam...</td>\n",
       "      <td>http://www.thedarkknightrises.com/</td>\n",
       "      <td>49026</td>\n",
       "      <td>[{\"id\": 849, \"name\": \"dc comics\"}, {\"id\": 853,...</td>\n",
       "      <td>en</td>\n",
       "      <td>The Dark Knight Rises</td>\n",
       "      <td>Following the death of District Attorney Harve...</td>\n",
       "      <td>112.312950</td>\n",
       "      <td>[{\"name\": \"Legendary Pictures\", \"id\": 923}, {\"...</td>\n",
       "      <td>...</td>\n",
       "      <td>165.0</td>\n",
       "      <td>[{\"iso_639_1\": \"en\", \"name\": \"English\"}]</td>\n",
       "      <td>Released</td>\n",
       "      <td>The Legend Ends</td>\n",
       "      <td>The Dark Knight Rises</td>\n",
       "      <td>7.6</td>\n",
       "      <td>9106</td>\n",
       "      <td>49026</td>\n",
       "      <td>[{\"cast_id\": 2, \"character\": \"Bruce Wayne / Ba...</td>\n",
       "      <td>[{\"credit_id\": \"52fe4781c3a36847f81398c3\", \"de...</td>\n",
       "    </tr>\n",
       "    <tr>\n",
       "      <th>4</th>\n",
       "      <td>260000000</td>\n",
       "      <td>[{\"id\": 28, \"name\": \"Action\"}, {\"id\": 12, \"nam...</td>\n",
       "      <td>http://movies.disney.com/john-carter</td>\n",
       "      <td>49529</td>\n",
       "      <td>[{\"id\": 818, \"name\": \"based on novel\"}, {\"id\":...</td>\n",
       "      <td>en</td>\n",
       "      <td>John Carter</td>\n",
       "      <td>John Carter is a war-weary, former military ca...</td>\n",
       "      <td>43.926995</td>\n",
       "      <td>[{\"name\": \"Walt Disney Pictures\", \"id\": 2}]</td>\n",
       "      <td>...</td>\n",
       "      <td>132.0</td>\n",
       "      <td>[{\"iso_639_1\": \"en\", \"name\": \"English\"}]</td>\n",
       "      <td>Released</td>\n",
       "      <td>Lost in our world, found in another.</td>\n",
       "      <td>John Carter</td>\n",
       "      <td>6.1</td>\n",
       "      <td>2124</td>\n",
       "      <td>49529</td>\n",
       "      <td>[{\"cast_id\": 5, \"character\": \"John Carter\", \"c...</td>\n",
       "      <td>[{\"credit_id\": \"52fe479ac3a36847f813eaa3\", \"de...</td>\n",
       "    </tr>\n",
       "    <tr>\n",
       "      <th>...</th>\n",
       "      <td>...</td>\n",
       "      <td>...</td>\n",
       "      <td>...</td>\n",
       "      <td>...</td>\n",
       "      <td>...</td>\n",
       "      <td>...</td>\n",
       "      <td>...</td>\n",
       "      <td>...</td>\n",
       "      <td>...</td>\n",
       "      <td>...</td>\n",
       "      <td>...</td>\n",
       "      <td>...</td>\n",
       "      <td>...</td>\n",
       "      <td>...</td>\n",
       "      <td>...</td>\n",
       "      <td>...</td>\n",
       "      <td>...</td>\n",
       "      <td>...</td>\n",
       "      <td>...</td>\n",
       "      <td>...</td>\n",
       "      <td>...</td>\n",
       "    </tr>\n",
       "    <tr>\n",
       "      <th>4804</th>\n",
       "      <td>220000</td>\n",
       "      <td>[{\"id\": 28, \"name\": \"Action\"}, {\"id\": 80, \"nam...</td>\n",
       "      <td>NaN</td>\n",
       "      <td>9367</td>\n",
       "      <td>[{\"id\": 5616, \"name\": \"united states\\u2013mexi...</td>\n",
       "      <td>es</td>\n",
       "      <td>El Mariachi</td>\n",
       "      <td>El Mariachi just wants to play his guitar and ...</td>\n",
       "      <td>14.269792</td>\n",
       "      <td>[{\"name\": \"Columbia Pictures\", \"id\": 5}]</td>\n",
       "      <td>...</td>\n",
       "      <td>81.0</td>\n",
       "      <td>[{\"iso_639_1\": \"es\", \"name\": \"Espa\\u00f1ol\"}]</td>\n",
       "      <td>Released</td>\n",
       "      <td>He didn't come looking for trouble, but troubl...</td>\n",
       "      <td>El Mariachi</td>\n",
       "      <td>6.6</td>\n",
       "      <td>238</td>\n",
       "      <td>9367</td>\n",
       "      <td>[{\"cast_id\": 1, \"character\": \"El Mariachi\", \"c...</td>\n",
       "      <td>[{\"credit_id\": \"52fe44eec3a36847f80b280b\", \"de...</td>\n",
       "    </tr>\n",
       "    <tr>\n",
       "      <th>4805</th>\n",
       "      <td>9000</td>\n",
       "      <td>[{\"id\": 35, \"name\": \"Comedy\"}, {\"id\": 10749, \"...</td>\n",
       "      <td>NaN</td>\n",
       "      <td>72766</td>\n",
       "      <td>[]</td>\n",
       "      <td>en</td>\n",
       "      <td>Newlyweds</td>\n",
       "      <td>A newlywed couple's honeymoon is upended by th...</td>\n",
       "      <td>0.642552</td>\n",
       "      <td>[]</td>\n",
       "      <td>...</td>\n",
       "      <td>85.0</td>\n",
       "      <td>[]</td>\n",
       "      <td>Released</td>\n",
       "      <td>A newlywed couple's honeymoon is upended by th...</td>\n",
       "      <td>Newlyweds</td>\n",
       "      <td>5.9</td>\n",
       "      <td>5</td>\n",
       "      <td>72766</td>\n",
       "      <td>[{\"cast_id\": 1, \"character\": \"Buzzy\", \"credit_...</td>\n",
       "      <td>[{\"credit_id\": \"52fe487dc3a368484e0fb013\", \"de...</td>\n",
       "    </tr>\n",
       "    <tr>\n",
       "      <th>4806</th>\n",
       "      <td>0</td>\n",
       "      <td>[{\"id\": 35, \"name\": \"Comedy\"}, {\"id\": 18, \"nam...</td>\n",
       "      <td>http://www.hallmarkchannel.com/signedsealeddel...</td>\n",
       "      <td>231617</td>\n",
       "      <td>[{\"id\": 248, \"name\": \"date\"}, {\"id\": 699, \"nam...</td>\n",
       "      <td>en</td>\n",
       "      <td>Signed, Sealed, Delivered</td>\n",
       "      <td>\"Signed, Sealed, Delivered\" introduces a dedic...</td>\n",
       "      <td>1.444476</td>\n",
       "      <td>[{\"name\": \"Front Street Pictures\", \"id\": 3958}...</td>\n",
       "      <td>...</td>\n",
       "      <td>120.0</td>\n",
       "      <td>[{\"iso_639_1\": \"en\", \"name\": \"English\"}]</td>\n",
       "      <td>Released</td>\n",
       "      <td>NaN</td>\n",
       "      <td>Signed, Sealed, Delivered</td>\n",
       "      <td>7.0</td>\n",
       "      <td>6</td>\n",
       "      <td>231617</td>\n",
       "      <td>[{\"cast_id\": 8, \"character\": \"Oliver O\\u2019To...</td>\n",
       "      <td>[{\"credit_id\": \"52fe4df3c3a36847f8275ecf\", \"de...</td>\n",
       "    </tr>\n",
       "    <tr>\n",
       "      <th>4807</th>\n",
       "      <td>0</td>\n",
       "      <td>[]</td>\n",
       "      <td>http://shanghaicalling.com/</td>\n",
       "      <td>126186</td>\n",
       "      <td>[]</td>\n",
       "      <td>en</td>\n",
       "      <td>Shanghai Calling</td>\n",
       "      <td>When ambitious New York attorney Sam is sent t...</td>\n",
       "      <td>0.857008</td>\n",
       "      <td>[]</td>\n",
       "      <td>...</td>\n",
       "      <td>98.0</td>\n",
       "      <td>[{\"iso_639_1\": \"en\", \"name\": \"English\"}]</td>\n",
       "      <td>Released</td>\n",
       "      <td>A New Yorker in Shanghai</td>\n",
       "      <td>Shanghai Calling</td>\n",
       "      <td>5.7</td>\n",
       "      <td>7</td>\n",
       "      <td>126186</td>\n",
       "      <td>[{\"cast_id\": 3, \"character\": \"Sam\", \"credit_id...</td>\n",
       "      <td>[{\"credit_id\": \"52fe4ad9c3a368484e16a36b\", \"de...</td>\n",
       "    </tr>\n",
       "    <tr>\n",
       "      <th>4808</th>\n",
       "      <td>0</td>\n",
       "      <td>[{\"id\": 99, \"name\": \"Documentary\"}]</td>\n",
       "      <td>NaN</td>\n",
       "      <td>25975</td>\n",
       "      <td>[{\"id\": 1523, \"name\": \"obsession\"}, {\"id\": 224...</td>\n",
       "      <td>en</td>\n",
       "      <td>My Date with Drew</td>\n",
       "      <td>Ever since the second grade when he first saw ...</td>\n",
       "      <td>1.929883</td>\n",
       "      <td>[{\"name\": \"rusty bear entertainment\", \"id\": 87...</td>\n",
       "      <td>...</td>\n",
       "      <td>90.0</td>\n",
       "      <td>[{\"iso_639_1\": \"en\", \"name\": \"English\"}]</td>\n",
       "      <td>Released</td>\n",
       "      <td>NaN</td>\n",
       "      <td>My Date with Drew</td>\n",
       "      <td>6.3</td>\n",
       "      <td>16</td>\n",
       "      <td>25975</td>\n",
       "      <td>[{\"cast_id\": 3, \"character\": \"Herself\", \"credi...</td>\n",
       "      <td>[{\"credit_id\": \"58ce021b9251415a390165d9\", \"de...</td>\n",
       "    </tr>\n",
       "  </tbody>\n",
       "</table>\n",
       "<p>4809 rows × 23 columns</p>\n",
       "</div>"
      ],
      "text/plain": [
       "         budget                                             genres  \\\n",
       "0     237000000  [{\"id\": 28, \"name\": \"Action\"}, {\"id\": 12, \"nam...   \n",
       "1     300000000  [{\"id\": 12, \"name\": \"Adventure\"}, {\"id\": 14, \"...   \n",
       "2     245000000  [{\"id\": 28, \"name\": \"Action\"}, {\"id\": 12, \"nam...   \n",
       "3     250000000  [{\"id\": 28, \"name\": \"Action\"}, {\"id\": 80, \"nam...   \n",
       "4     260000000  [{\"id\": 28, \"name\": \"Action\"}, {\"id\": 12, \"nam...   \n",
       "...         ...                                                ...   \n",
       "4804     220000  [{\"id\": 28, \"name\": \"Action\"}, {\"id\": 80, \"nam...   \n",
       "4805       9000  [{\"id\": 35, \"name\": \"Comedy\"}, {\"id\": 10749, \"...   \n",
       "4806          0  [{\"id\": 35, \"name\": \"Comedy\"}, {\"id\": 18, \"nam...   \n",
       "4807          0                                                 []   \n",
       "4808          0                [{\"id\": 99, \"name\": \"Documentary\"}]   \n",
       "\n",
       "                                               homepage      id  \\\n",
       "0                           http://www.avatarmovie.com/   19995   \n",
       "1          http://disney.go.com/disneypictures/pirates/     285   \n",
       "2           http://www.sonypictures.com/movies/spectre/  206647   \n",
       "3                    http://www.thedarkknightrises.com/   49026   \n",
       "4                  http://movies.disney.com/john-carter   49529   \n",
       "...                                                 ...     ...   \n",
       "4804                                                NaN    9367   \n",
       "4805                                                NaN   72766   \n",
       "4806  http://www.hallmarkchannel.com/signedsealeddel...  231617   \n",
       "4807                        http://shanghaicalling.com/  126186   \n",
       "4808                                                NaN   25975   \n",
       "\n",
       "                                               keywords original_language  \\\n",
       "0     [{\"id\": 1463, \"name\": \"culture clash\"}, {\"id\":...                en   \n",
       "1     [{\"id\": 270, \"name\": \"ocean\"}, {\"id\": 726, \"na...                en   \n",
       "2     [{\"id\": 470, \"name\": \"spy\"}, {\"id\": 818, \"name...                en   \n",
       "3     [{\"id\": 849, \"name\": \"dc comics\"}, {\"id\": 853,...                en   \n",
       "4     [{\"id\": 818, \"name\": \"based on novel\"}, {\"id\":...                en   \n",
       "...                                                 ...               ...   \n",
       "4804  [{\"id\": 5616, \"name\": \"united states\\u2013mexi...                es   \n",
       "4805                                                 []                en   \n",
       "4806  [{\"id\": 248, \"name\": \"date\"}, {\"id\": 699, \"nam...                en   \n",
       "4807                                                 []                en   \n",
       "4808  [{\"id\": 1523, \"name\": \"obsession\"}, {\"id\": 224...                en   \n",
       "\n",
       "                                original_title  \\\n",
       "0                                       Avatar   \n",
       "1     Pirates of the Caribbean: At World's End   \n",
       "2                                      Spectre   \n",
       "3                        The Dark Knight Rises   \n",
       "4                                  John Carter   \n",
       "...                                        ...   \n",
       "4804                               El Mariachi   \n",
       "4805                                 Newlyweds   \n",
       "4806                 Signed, Sealed, Delivered   \n",
       "4807                          Shanghai Calling   \n",
       "4808                         My Date with Drew   \n",
       "\n",
       "                                               overview  popularity  \\\n",
       "0     In the 22nd century, a paraplegic Marine is di...  150.437577   \n",
       "1     Captain Barbossa, long believed to be dead, ha...  139.082615   \n",
       "2     A cryptic message from Bond’s past sends him o...  107.376788   \n",
       "3     Following the death of District Attorney Harve...  112.312950   \n",
       "4     John Carter is a war-weary, former military ca...   43.926995   \n",
       "...                                                 ...         ...   \n",
       "4804  El Mariachi just wants to play his guitar and ...   14.269792   \n",
       "4805  A newlywed couple's honeymoon is upended by th...    0.642552   \n",
       "4806  \"Signed, Sealed, Delivered\" introduces a dedic...    1.444476   \n",
       "4807  When ambitious New York attorney Sam is sent t...    0.857008   \n",
       "4808  Ever since the second grade when he first saw ...    1.929883   \n",
       "\n",
       "                                   production_companies  ... runtime  \\\n",
       "0     [{\"name\": \"Ingenious Film Partners\", \"id\": 289...  ...   162.0   \n",
       "1     [{\"name\": \"Walt Disney Pictures\", \"id\": 2}, {\"...  ...   169.0   \n",
       "2     [{\"name\": \"Columbia Pictures\", \"id\": 5}, {\"nam...  ...   148.0   \n",
       "3     [{\"name\": \"Legendary Pictures\", \"id\": 923}, {\"...  ...   165.0   \n",
       "4           [{\"name\": \"Walt Disney Pictures\", \"id\": 2}]  ...   132.0   \n",
       "...                                                 ...  ...     ...   \n",
       "4804           [{\"name\": \"Columbia Pictures\", \"id\": 5}]  ...    81.0   \n",
       "4805                                                 []  ...    85.0   \n",
       "4806  [{\"name\": \"Front Street Pictures\", \"id\": 3958}...  ...   120.0   \n",
       "4807                                                 []  ...    98.0   \n",
       "4808  [{\"name\": \"rusty bear entertainment\", \"id\": 87...  ...    90.0   \n",
       "\n",
       "                                       spoken_languages    status  \\\n",
       "0     [{\"iso_639_1\": \"en\", \"name\": \"English\"}, {\"iso...  Released   \n",
       "1              [{\"iso_639_1\": \"en\", \"name\": \"English\"}]  Released   \n",
       "2     [{\"iso_639_1\": \"fr\", \"name\": \"Fran\\u00e7ais\"},...  Released   \n",
       "3              [{\"iso_639_1\": \"en\", \"name\": \"English\"}]  Released   \n",
       "4              [{\"iso_639_1\": \"en\", \"name\": \"English\"}]  Released   \n",
       "...                                                 ...       ...   \n",
       "4804      [{\"iso_639_1\": \"es\", \"name\": \"Espa\\u00f1ol\"}]  Released   \n",
       "4805                                                 []  Released   \n",
       "4806           [{\"iso_639_1\": \"en\", \"name\": \"English\"}]  Released   \n",
       "4807           [{\"iso_639_1\": \"en\", \"name\": \"English\"}]  Released   \n",
       "4808           [{\"iso_639_1\": \"en\", \"name\": \"English\"}]  Released   \n",
       "\n",
       "                                                tagline  \\\n",
       "0                           Enter the World of Pandora.   \n",
       "1        At the end of the world, the adventure begins.   \n",
       "2                                 A Plan No One Escapes   \n",
       "3                                       The Legend Ends   \n",
       "4                  Lost in our world, found in another.   \n",
       "...                                                 ...   \n",
       "4804  He didn't come looking for trouble, but troubl...   \n",
       "4805  A newlywed couple's honeymoon is upended by th...   \n",
       "4806                                                NaN   \n",
       "4807                           A New Yorker in Shanghai   \n",
       "4808                                                NaN   \n",
       "\n",
       "                                         title vote_average vote_count  \\\n",
       "0                                       Avatar          7.2      11800   \n",
       "1     Pirates of the Caribbean: At World's End          6.9       4500   \n",
       "2                                      Spectre          6.3       4466   \n",
       "3                        The Dark Knight Rises          7.6       9106   \n",
       "4                                  John Carter          6.1       2124   \n",
       "...                                        ...          ...        ...   \n",
       "4804                               El Mariachi          6.6        238   \n",
       "4805                                 Newlyweds          5.9          5   \n",
       "4806                 Signed, Sealed, Delivered          7.0          6   \n",
       "4807                          Shanghai Calling          5.7          7   \n",
       "4808                         My Date with Drew          6.3         16   \n",
       "\n",
       "     movie_id                                               cast  \\\n",
       "0       19995  [{\"cast_id\": 242, \"character\": \"Jake Sully\", \"...   \n",
       "1         285  [{\"cast_id\": 4, \"character\": \"Captain Jack Spa...   \n",
       "2      206647  [{\"cast_id\": 1, \"character\": \"James Bond\", \"cr...   \n",
       "3       49026  [{\"cast_id\": 2, \"character\": \"Bruce Wayne / Ba...   \n",
       "4       49529  [{\"cast_id\": 5, \"character\": \"John Carter\", \"c...   \n",
       "...       ...                                                ...   \n",
       "4804     9367  [{\"cast_id\": 1, \"character\": \"El Mariachi\", \"c...   \n",
       "4805    72766  [{\"cast_id\": 1, \"character\": \"Buzzy\", \"credit_...   \n",
       "4806   231617  [{\"cast_id\": 8, \"character\": \"Oliver O\\u2019To...   \n",
       "4807   126186  [{\"cast_id\": 3, \"character\": \"Sam\", \"credit_id...   \n",
       "4808    25975  [{\"cast_id\": 3, \"character\": \"Herself\", \"credi...   \n",
       "\n",
       "                                                   crew  \n",
       "0     [{\"credit_id\": \"52fe48009251416c750aca23\", \"de...  \n",
       "1     [{\"credit_id\": \"52fe4232c3a36847f800b579\", \"de...  \n",
       "2     [{\"credit_id\": \"54805967c3a36829b5002c41\", \"de...  \n",
       "3     [{\"credit_id\": \"52fe4781c3a36847f81398c3\", \"de...  \n",
       "4     [{\"credit_id\": \"52fe479ac3a36847f813eaa3\", \"de...  \n",
       "...                                                 ...  \n",
       "4804  [{\"credit_id\": \"52fe44eec3a36847f80b280b\", \"de...  \n",
       "4805  [{\"credit_id\": \"52fe487dc3a368484e0fb013\", \"de...  \n",
       "4806  [{\"credit_id\": \"52fe4df3c3a36847f8275ecf\", \"de...  \n",
       "4807  [{\"credit_id\": \"52fe4ad9c3a368484e16a36b\", \"de...  \n",
       "4808  [{\"credit_id\": \"58ce021b9251415a390165d9\", \"de...  \n",
       "\n",
       "[4809 rows x 23 columns]"
      ]
     },
     "execution_count": 10,
     "metadata": {},
     "output_type": "execute_result"
    }
   ],
   "source": [
    "data=movies.merge(credits,on='title')\n",
    "data"
   ]
  },
  {
   "cell_type": "code",
   "execution_count": 11,
   "id": "37e0764b",
   "metadata": {
    "execution": {
     "iopub.execute_input": "2023-10-13T15:27:30.162848Z",
     "iopub.status.busy": "2023-10-13T15:27:30.161863Z",
     "iopub.status.idle": "2023-10-13T15:27:30.168390Z",
     "shell.execute_reply": "2023-10-13T15:27:30.167601Z"
    },
    "papermill": {
     "duration": 0.021052,
     "end_time": "2023-10-13T15:27:30.170217",
     "exception": false,
     "start_time": "2023-10-13T15:27:30.149165",
     "status": "completed"
    },
    "tags": []
   },
   "outputs": [
    {
     "data": {
      "text/plain": [
       "(4809, 23)"
      ]
     },
     "execution_count": 11,
     "metadata": {},
     "output_type": "execute_result"
    }
   ],
   "source": [
    "data.shape"
   ]
  },
  {
   "cell_type": "code",
   "execution_count": 12,
   "id": "f647a31f",
   "metadata": {
    "execution": {
     "iopub.execute_input": "2023-10-13T15:27:30.194959Z",
     "iopub.status.busy": "2023-10-13T15:27:30.194106Z",
     "iopub.status.idle": "2023-10-13T15:27:30.200293Z",
     "shell.execute_reply": "2023-10-13T15:27:30.199327Z"
    },
    "papermill": {
     "duration": 0.020862,
     "end_time": "2023-10-13T15:27:30.202389",
     "exception": false,
     "start_time": "2023-10-13T15:27:30.181527",
     "status": "completed"
    },
    "tags": []
   },
   "outputs": [
    {
     "data": {
      "text/plain": [
       "Index(['budget', 'genres', 'homepage', 'id', 'keywords', 'original_language',\n",
       "       'original_title', 'overview', 'popularity', 'production_companies',\n",
       "       'production_countries', 'release_date', 'revenue', 'runtime',\n",
       "       'spoken_languages', 'status', 'tagline', 'title', 'vote_average',\n",
       "       'vote_count', 'movie_id', 'cast', 'crew'],\n",
       "      dtype='object')"
      ]
     },
     "execution_count": 12,
     "metadata": {},
     "output_type": "execute_result"
    }
   ],
   "source": [
    "data.columns"
   ]
  },
  {
   "cell_type": "code",
   "execution_count": 13,
   "id": "990b2fb0",
   "metadata": {
    "execution": {
     "iopub.execute_input": "2023-10-13T15:27:30.287770Z",
     "iopub.status.busy": "2023-10-13T15:27:30.286769Z",
     "iopub.status.idle": "2023-10-13T15:27:30.312409Z",
     "shell.execute_reply": "2023-10-13T15:27:30.311160Z"
    },
    "papermill": {
     "duration": 0.101162,
     "end_time": "2023-10-13T15:27:30.315035",
     "exception": false,
     "start_time": "2023-10-13T15:27:30.213873",
     "status": "completed"
    },
    "tags": []
   },
   "outputs": [
    {
     "name": "stdout",
     "output_type": "stream",
     "text": [
      "<class 'pandas.core.frame.DataFrame'>\n",
      "Int64Index: 4809 entries, 0 to 4808\n",
      "Data columns (total 23 columns):\n",
      " #   Column                Non-Null Count  Dtype  \n",
      "---  ------                --------------  -----  \n",
      " 0   budget                4809 non-null   int64  \n",
      " 1   genres                4809 non-null   object \n",
      " 2   homepage              1713 non-null   object \n",
      " 3   id                    4809 non-null   int64  \n",
      " 4   keywords              4809 non-null   object \n",
      " 5   original_language     4809 non-null   object \n",
      " 6   original_title        4809 non-null   object \n",
      " 7   overview              4806 non-null   object \n",
      " 8   popularity            4809 non-null   float64\n",
      " 9   production_companies  4809 non-null   object \n",
      " 10  production_countries  4809 non-null   object \n",
      " 11  release_date          4808 non-null   object \n",
      " 12  revenue               4809 non-null   int64  \n",
      " 13  runtime               4807 non-null   float64\n",
      " 14  spoken_languages      4809 non-null   object \n",
      " 15  status                4809 non-null   object \n",
      " 16  tagline               3965 non-null   object \n",
      " 17  title                 4809 non-null   object \n",
      " 18  vote_average          4809 non-null   float64\n",
      " 19  vote_count            4809 non-null   int64  \n",
      " 20  movie_id              4809 non-null   int64  \n",
      " 21  cast                  4809 non-null   object \n",
      " 22  crew                  4809 non-null   object \n",
      "dtypes: float64(3), int64(5), object(15)\n",
      "memory usage: 901.7+ KB\n"
     ]
    }
   ],
   "source": [
    "data.info()"
   ]
  },
  {
   "cell_type": "code",
   "execution_count": 14,
   "id": "a014fb1c",
   "metadata": {
    "execution": {
     "iopub.execute_input": "2023-10-13T15:27:30.340722Z",
     "iopub.status.busy": "2023-10-13T15:27:30.340166Z",
     "iopub.status.idle": "2023-10-13T15:27:30.346689Z",
     "shell.execute_reply": "2023-10-13T15:27:30.345923Z"
    },
    "papermill": {
     "duration": 0.021872,
     "end_time": "2023-10-13T15:27:30.348917",
     "exception": false,
     "start_time": "2023-10-13T15:27:30.327045",
     "status": "completed"
    },
    "tags": []
   },
   "outputs": [],
   "source": [
    "data=data[['movie_id','title','genres','keywords','overview','popularity','cast','crew']]"
   ]
  },
  {
   "cell_type": "code",
   "execution_count": 15,
   "id": "a5ec6f0b",
   "metadata": {
    "execution": {
     "iopub.execute_input": "2023-10-13T15:27:30.375140Z",
     "iopub.status.busy": "2023-10-13T15:27:30.374454Z",
     "iopub.status.idle": "2023-10-13T15:27:30.399134Z",
     "shell.execute_reply": "2023-10-13T15:27:30.396920Z"
    },
    "papermill": {
     "duration": 0.041317,
     "end_time": "2023-10-13T15:27:30.402559",
     "exception": false,
     "start_time": "2023-10-13T15:27:30.361242",
     "status": "completed"
    },
    "tags": []
   },
   "outputs": [
    {
     "data": {
      "text/html": [
       "<div>\n",
       "<style scoped>\n",
       "    .dataframe tbody tr th:only-of-type {\n",
       "        vertical-align: middle;\n",
       "    }\n",
       "\n",
       "    .dataframe tbody tr th {\n",
       "        vertical-align: top;\n",
       "    }\n",
       "\n",
       "    .dataframe thead th {\n",
       "        text-align: right;\n",
       "    }\n",
       "</style>\n",
       "<table border=\"1\" class=\"dataframe\">\n",
       "  <thead>\n",
       "    <tr style=\"text-align: right;\">\n",
       "      <th></th>\n",
       "      <th>movie_id</th>\n",
       "      <th>title</th>\n",
       "      <th>genres</th>\n",
       "      <th>keywords</th>\n",
       "      <th>overview</th>\n",
       "      <th>popularity</th>\n",
       "      <th>cast</th>\n",
       "      <th>crew</th>\n",
       "    </tr>\n",
       "  </thead>\n",
       "  <tbody>\n",
       "    <tr>\n",
       "      <th>0</th>\n",
       "      <td>19995</td>\n",
       "      <td>Avatar</td>\n",
       "      <td>[{\"id\": 28, \"name\": \"Action\"}, {\"id\": 12, \"nam...</td>\n",
       "      <td>[{\"id\": 1463, \"name\": \"culture clash\"}, {\"id\":...</td>\n",
       "      <td>In the 22nd century, a paraplegic Marine is di...</td>\n",
       "      <td>150.437577</td>\n",
       "      <td>[{\"cast_id\": 242, \"character\": \"Jake Sully\", \"...</td>\n",
       "      <td>[{\"credit_id\": \"52fe48009251416c750aca23\", \"de...</td>\n",
       "    </tr>\n",
       "    <tr>\n",
       "      <th>1</th>\n",
       "      <td>285</td>\n",
       "      <td>Pirates of the Caribbean: At World's End</td>\n",
       "      <td>[{\"id\": 12, \"name\": \"Adventure\"}, {\"id\": 14, \"...</td>\n",
       "      <td>[{\"id\": 270, \"name\": \"ocean\"}, {\"id\": 726, \"na...</td>\n",
       "      <td>Captain Barbossa, long believed to be dead, ha...</td>\n",
       "      <td>139.082615</td>\n",
       "      <td>[{\"cast_id\": 4, \"character\": \"Captain Jack Spa...</td>\n",
       "      <td>[{\"credit_id\": \"52fe4232c3a36847f800b579\", \"de...</td>\n",
       "    </tr>\n",
       "    <tr>\n",
       "      <th>2</th>\n",
       "      <td>206647</td>\n",
       "      <td>Spectre</td>\n",
       "      <td>[{\"id\": 28, \"name\": \"Action\"}, {\"id\": 12, \"nam...</td>\n",
       "      <td>[{\"id\": 470, \"name\": \"spy\"}, {\"id\": 818, \"name...</td>\n",
       "      <td>A cryptic message from Bond’s past sends him o...</td>\n",
       "      <td>107.376788</td>\n",
       "      <td>[{\"cast_id\": 1, \"character\": \"James Bond\", \"cr...</td>\n",
       "      <td>[{\"credit_id\": \"54805967c3a36829b5002c41\", \"de...</td>\n",
       "    </tr>\n",
       "    <tr>\n",
       "      <th>3</th>\n",
       "      <td>49026</td>\n",
       "      <td>The Dark Knight Rises</td>\n",
       "      <td>[{\"id\": 28, \"name\": \"Action\"}, {\"id\": 80, \"nam...</td>\n",
       "      <td>[{\"id\": 849, \"name\": \"dc comics\"}, {\"id\": 853,...</td>\n",
       "      <td>Following the death of District Attorney Harve...</td>\n",
       "      <td>112.312950</td>\n",
       "      <td>[{\"cast_id\": 2, \"character\": \"Bruce Wayne / Ba...</td>\n",
       "      <td>[{\"credit_id\": \"52fe4781c3a36847f81398c3\", \"de...</td>\n",
       "    </tr>\n",
       "    <tr>\n",
       "      <th>4</th>\n",
       "      <td>49529</td>\n",
       "      <td>John Carter</td>\n",
       "      <td>[{\"id\": 28, \"name\": \"Action\"}, {\"id\": 12, \"nam...</td>\n",
       "      <td>[{\"id\": 818, \"name\": \"based on novel\"}, {\"id\":...</td>\n",
       "      <td>John Carter is a war-weary, former military ca...</td>\n",
       "      <td>43.926995</td>\n",
       "      <td>[{\"cast_id\": 5, \"character\": \"John Carter\", \"c...</td>\n",
       "      <td>[{\"credit_id\": \"52fe479ac3a36847f813eaa3\", \"de...</td>\n",
       "    </tr>\n",
       "    <tr>\n",
       "      <th>...</th>\n",
       "      <td>...</td>\n",
       "      <td>...</td>\n",
       "      <td>...</td>\n",
       "      <td>...</td>\n",
       "      <td>...</td>\n",
       "      <td>...</td>\n",
       "      <td>...</td>\n",
       "      <td>...</td>\n",
       "    </tr>\n",
       "    <tr>\n",
       "      <th>4804</th>\n",
       "      <td>9367</td>\n",
       "      <td>El Mariachi</td>\n",
       "      <td>[{\"id\": 28, \"name\": \"Action\"}, {\"id\": 80, \"nam...</td>\n",
       "      <td>[{\"id\": 5616, \"name\": \"united states\\u2013mexi...</td>\n",
       "      <td>El Mariachi just wants to play his guitar and ...</td>\n",
       "      <td>14.269792</td>\n",
       "      <td>[{\"cast_id\": 1, \"character\": \"El Mariachi\", \"c...</td>\n",
       "      <td>[{\"credit_id\": \"52fe44eec3a36847f80b280b\", \"de...</td>\n",
       "    </tr>\n",
       "    <tr>\n",
       "      <th>4805</th>\n",
       "      <td>72766</td>\n",
       "      <td>Newlyweds</td>\n",
       "      <td>[{\"id\": 35, \"name\": \"Comedy\"}, {\"id\": 10749, \"...</td>\n",
       "      <td>[]</td>\n",
       "      <td>A newlywed couple's honeymoon is upended by th...</td>\n",
       "      <td>0.642552</td>\n",
       "      <td>[{\"cast_id\": 1, \"character\": \"Buzzy\", \"credit_...</td>\n",
       "      <td>[{\"credit_id\": \"52fe487dc3a368484e0fb013\", \"de...</td>\n",
       "    </tr>\n",
       "    <tr>\n",
       "      <th>4806</th>\n",
       "      <td>231617</td>\n",
       "      <td>Signed, Sealed, Delivered</td>\n",
       "      <td>[{\"id\": 35, \"name\": \"Comedy\"}, {\"id\": 18, \"nam...</td>\n",
       "      <td>[{\"id\": 248, \"name\": \"date\"}, {\"id\": 699, \"nam...</td>\n",
       "      <td>\"Signed, Sealed, Delivered\" introduces a dedic...</td>\n",
       "      <td>1.444476</td>\n",
       "      <td>[{\"cast_id\": 8, \"character\": \"Oliver O\\u2019To...</td>\n",
       "      <td>[{\"credit_id\": \"52fe4df3c3a36847f8275ecf\", \"de...</td>\n",
       "    </tr>\n",
       "    <tr>\n",
       "      <th>4807</th>\n",
       "      <td>126186</td>\n",
       "      <td>Shanghai Calling</td>\n",
       "      <td>[]</td>\n",
       "      <td>[]</td>\n",
       "      <td>When ambitious New York attorney Sam is sent t...</td>\n",
       "      <td>0.857008</td>\n",
       "      <td>[{\"cast_id\": 3, \"character\": \"Sam\", \"credit_id...</td>\n",
       "      <td>[{\"credit_id\": \"52fe4ad9c3a368484e16a36b\", \"de...</td>\n",
       "    </tr>\n",
       "    <tr>\n",
       "      <th>4808</th>\n",
       "      <td>25975</td>\n",
       "      <td>My Date with Drew</td>\n",
       "      <td>[{\"id\": 99, \"name\": \"Documentary\"}]</td>\n",
       "      <td>[{\"id\": 1523, \"name\": \"obsession\"}, {\"id\": 224...</td>\n",
       "      <td>Ever since the second grade when he first saw ...</td>\n",
       "      <td>1.929883</td>\n",
       "      <td>[{\"cast_id\": 3, \"character\": \"Herself\", \"credi...</td>\n",
       "      <td>[{\"credit_id\": \"58ce021b9251415a390165d9\", \"de...</td>\n",
       "    </tr>\n",
       "  </tbody>\n",
       "</table>\n",
       "<p>4809 rows × 8 columns</p>\n",
       "</div>"
      ],
      "text/plain": [
       "      movie_id                                     title  \\\n",
       "0        19995                                    Avatar   \n",
       "1          285  Pirates of the Caribbean: At World's End   \n",
       "2       206647                                   Spectre   \n",
       "3        49026                     The Dark Knight Rises   \n",
       "4        49529                               John Carter   \n",
       "...        ...                                       ...   \n",
       "4804      9367                               El Mariachi   \n",
       "4805     72766                                 Newlyweds   \n",
       "4806    231617                 Signed, Sealed, Delivered   \n",
       "4807    126186                          Shanghai Calling   \n",
       "4808     25975                         My Date with Drew   \n",
       "\n",
       "                                                 genres  \\\n",
       "0     [{\"id\": 28, \"name\": \"Action\"}, {\"id\": 12, \"nam...   \n",
       "1     [{\"id\": 12, \"name\": \"Adventure\"}, {\"id\": 14, \"...   \n",
       "2     [{\"id\": 28, \"name\": \"Action\"}, {\"id\": 12, \"nam...   \n",
       "3     [{\"id\": 28, \"name\": \"Action\"}, {\"id\": 80, \"nam...   \n",
       "4     [{\"id\": 28, \"name\": \"Action\"}, {\"id\": 12, \"nam...   \n",
       "...                                                 ...   \n",
       "4804  [{\"id\": 28, \"name\": \"Action\"}, {\"id\": 80, \"nam...   \n",
       "4805  [{\"id\": 35, \"name\": \"Comedy\"}, {\"id\": 10749, \"...   \n",
       "4806  [{\"id\": 35, \"name\": \"Comedy\"}, {\"id\": 18, \"nam...   \n",
       "4807                                                 []   \n",
       "4808                [{\"id\": 99, \"name\": \"Documentary\"}]   \n",
       "\n",
       "                                               keywords  \\\n",
       "0     [{\"id\": 1463, \"name\": \"culture clash\"}, {\"id\":...   \n",
       "1     [{\"id\": 270, \"name\": \"ocean\"}, {\"id\": 726, \"na...   \n",
       "2     [{\"id\": 470, \"name\": \"spy\"}, {\"id\": 818, \"name...   \n",
       "3     [{\"id\": 849, \"name\": \"dc comics\"}, {\"id\": 853,...   \n",
       "4     [{\"id\": 818, \"name\": \"based on novel\"}, {\"id\":...   \n",
       "...                                                 ...   \n",
       "4804  [{\"id\": 5616, \"name\": \"united states\\u2013mexi...   \n",
       "4805                                                 []   \n",
       "4806  [{\"id\": 248, \"name\": \"date\"}, {\"id\": 699, \"nam...   \n",
       "4807                                                 []   \n",
       "4808  [{\"id\": 1523, \"name\": \"obsession\"}, {\"id\": 224...   \n",
       "\n",
       "                                               overview  popularity  \\\n",
       "0     In the 22nd century, a paraplegic Marine is di...  150.437577   \n",
       "1     Captain Barbossa, long believed to be dead, ha...  139.082615   \n",
       "2     A cryptic message from Bond’s past sends him o...  107.376788   \n",
       "3     Following the death of District Attorney Harve...  112.312950   \n",
       "4     John Carter is a war-weary, former military ca...   43.926995   \n",
       "...                                                 ...         ...   \n",
       "4804  El Mariachi just wants to play his guitar and ...   14.269792   \n",
       "4805  A newlywed couple's honeymoon is upended by th...    0.642552   \n",
       "4806  \"Signed, Sealed, Delivered\" introduces a dedic...    1.444476   \n",
       "4807  When ambitious New York attorney Sam is sent t...    0.857008   \n",
       "4808  Ever since the second grade when he first saw ...    1.929883   \n",
       "\n",
       "                                                   cast  \\\n",
       "0     [{\"cast_id\": 242, \"character\": \"Jake Sully\", \"...   \n",
       "1     [{\"cast_id\": 4, \"character\": \"Captain Jack Spa...   \n",
       "2     [{\"cast_id\": 1, \"character\": \"James Bond\", \"cr...   \n",
       "3     [{\"cast_id\": 2, \"character\": \"Bruce Wayne / Ba...   \n",
       "4     [{\"cast_id\": 5, \"character\": \"John Carter\", \"c...   \n",
       "...                                                 ...   \n",
       "4804  [{\"cast_id\": 1, \"character\": \"El Mariachi\", \"c...   \n",
       "4805  [{\"cast_id\": 1, \"character\": \"Buzzy\", \"credit_...   \n",
       "4806  [{\"cast_id\": 8, \"character\": \"Oliver O\\u2019To...   \n",
       "4807  [{\"cast_id\": 3, \"character\": \"Sam\", \"credit_id...   \n",
       "4808  [{\"cast_id\": 3, \"character\": \"Herself\", \"credi...   \n",
       "\n",
       "                                                   crew  \n",
       "0     [{\"credit_id\": \"52fe48009251416c750aca23\", \"de...  \n",
       "1     [{\"credit_id\": \"52fe4232c3a36847f800b579\", \"de...  \n",
       "2     [{\"credit_id\": \"54805967c3a36829b5002c41\", \"de...  \n",
       "3     [{\"credit_id\": \"52fe4781c3a36847f81398c3\", \"de...  \n",
       "4     [{\"credit_id\": \"52fe479ac3a36847f813eaa3\", \"de...  \n",
       "...                                                 ...  \n",
       "4804  [{\"credit_id\": \"52fe44eec3a36847f80b280b\", \"de...  \n",
       "4805  [{\"credit_id\": \"52fe487dc3a368484e0fb013\", \"de...  \n",
       "4806  [{\"credit_id\": \"52fe4df3c3a36847f8275ecf\", \"de...  \n",
       "4807  [{\"credit_id\": \"52fe4ad9c3a368484e16a36b\", \"de...  \n",
       "4808  [{\"credit_id\": \"58ce021b9251415a390165d9\", \"de...  \n",
       "\n",
       "[4809 rows x 8 columns]"
      ]
     },
     "execution_count": 15,
     "metadata": {},
     "output_type": "execute_result"
    }
   ],
   "source": [
    "data"
   ]
  },
  {
   "cell_type": "code",
   "execution_count": 16,
   "id": "8ca371c2",
   "metadata": {
    "execution": {
     "iopub.execute_input": "2023-10-13T15:27:30.431899Z",
     "iopub.status.busy": "2023-10-13T15:27:30.431196Z",
     "iopub.status.idle": "2023-10-13T15:27:30.446093Z",
     "shell.execute_reply": "2023-10-13T15:27:30.445043Z"
    },
    "papermill": {
     "duration": 0.032027,
     "end_time": "2023-10-13T15:27:30.448172",
     "exception": false,
     "start_time": "2023-10-13T15:27:30.416145",
     "status": "completed"
    },
    "tags": []
   },
   "outputs": [
    {
     "data": {
      "text/plain": [
       "movie_id      0.000000\n",
       "title         0.000000\n",
       "genres        0.000000\n",
       "keywords      0.000000\n",
       "overview      0.000624\n",
       "popularity    0.000000\n",
       "cast          0.000000\n",
       "crew          0.000000\n",
       "dtype: float64"
      ]
     },
     "execution_count": 16,
     "metadata": {},
     "output_type": "execute_result"
    }
   ],
   "source": [
    "data.isnull().mean()"
   ]
  },
  {
   "cell_type": "code",
   "execution_count": 17,
   "id": "feaa5379",
   "metadata": {
    "execution": {
     "iopub.execute_input": "2023-10-13T15:27:30.481809Z",
     "iopub.status.busy": "2023-10-13T15:27:30.481114Z",
     "iopub.status.idle": "2023-10-13T15:27:30.492908Z",
     "shell.execute_reply": "2023-10-13T15:27:30.491482Z"
    },
    "papermill": {
     "duration": 0.028283,
     "end_time": "2023-10-13T15:27:30.495025",
     "exception": false,
     "start_time": "2023-10-13T15:27:30.466742",
     "status": "completed"
    },
    "tags": []
   },
   "outputs": [
    {
     "name": "stderr",
     "output_type": "stream",
     "text": [
      "C:\\Users\\aakas\\AppData\\Local\\Temp\\ipykernel_1564\\1368182302.py:1: SettingWithCopyWarning: \n",
      "A value is trying to be set on a copy of a slice from a DataFrame\n",
      "\n",
      "See the caveats in the documentation: https://pandas.pydata.org/pandas-docs/stable/user_guide/indexing.html#returning-a-view-versus-a-copy\n",
      "  data.dropna(inplace=True)\n"
     ]
    }
   ],
   "source": [
    "data.dropna(inplace=True)"
   ]
  },
  {
   "cell_type": "code",
   "execution_count": null,
   "id": "65f9b71e",
   "metadata": {
    "papermill": {
     "duration": 0.012037,
     "end_time": "2023-10-13T15:27:30.519386",
     "exception": false,
     "start_time": "2023-10-13T15:27:30.507349",
     "status": "completed"
    },
    "tags": []
   },
   "outputs": [],
   "source": []
  },
  {
   "cell_type": "code",
   "execution_count": 18,
   "id": "787a3cae",
   "metadata": {
    "execution": {
     "iopub.execute_input": "2023-10-13T15:27:30.546560Z",
     "iopub.status.busy": "2023-10-13T15:27:30.545880Z",
     "iopub.status.idle": "2023-10-13T15:27:30.556166Z",
     "shell.execute_reply": "2023-10-13T15:27:30.555186Z"
    },
    "papermill": {
     "duration": 0.026006,
     "end_time": "2023-10-13T15:27:30.558309",
     "exception": false,
     "start_time": "2023-10-13T15:27:30.532303",
     "status": "completed"
    },
    "tags": []
   },
   "outputs": [
    {
     "data": {
      "text/plain": [
       "{'cast_id': 242,\n",
       " 'character': 'Jake Sully',\n",
       " 'credit_id': '5602a8a7c3a3685532001c9a',\n",
       " 'gender': 2,\n",
       " 'id': 65731,\n",
       " 'name': 'Sam Worthington',\n",
       " 'order': 0}"
      ]
     },
     "execution_count": 18,
     "metadata": {},
     "output_type": "execute_result"
    }
   ],
   "source": [
    "import ast\n",
    "ast.literal_eval(data['cast'][0])[0]"
   ]
  },
  {
   "cell_type": "code",
   "execution_count": 19,
   "id": "f387c9f2",
   "metadata": {
    "execution": {
     "iopub.execute_input": "2023-10-13T15:27:30.596952Z",
     "iopub.status.busy": "2023-10-13T15:27:30.596108Z",
     "iopub.status.idle": "2023-10-13T15:27:30.601938Z",
     "shell.execute_reply": "2023-10-13T15:27:30.600970Z"
    },
    "papermill": {
     "duration": 0.027024,
     "end_time": "2023-10-13T15:27:30.603895",
     "exception": false,
     "start_time": "2023-10-13T15:27:30.576871",
     "status": "completed"
    },
    "tags": []
   },
   "outputs": [],
   "source": [
    "import ast\n",
    "def convert(obj):\n",
    "    name=[]\n",
    "    obj=ast.literal_eval(obj)\n",
    "    for i in obj:\n",
    "        name.append(i['name'])\n",
    "    return name"
   ]
  },
  {
   "cell_type": "code",
   "execution_count": 20,
   "id": "c61d30a6",
   "metadata": {
    "execution": {
     "iopub.execute_input": "2023-10-13T15:27:30.632125Z",
     "iopub.status.busy": "2023-10-13T15:27:30.631290Z",
     "iopub.status.idle": "2023-10-13T15:27:30.796888Z",
     "shell.execute_reply": "2023-10-13T15:27:30.795753Z"
    },
    "papermill": {
     "duration": 0.183233,
     "end_time": "2023-10-13T15:27:30.800203",
     "exception": false,
     "start_time": "2023-10-13T15:27:30.616970",
     "status": "completed"
    },
    "tags": []
   },
   "outputs": [
    {
     "name": "stderr",
     "output_type": "stream",
     "text": [
      "C:\\Users\\aakas\\AppData\\Local\\Temp\\ipykernel_1564\\2000562079.py:1: SettingWithCopyWarning: \n",
      "A value is trying to be set on a copy of a slice from a DataFrame.\n",
      "Try using .loc[row_indexer,col_indexer] = value instead\n",
      "\n",
      "See the caveats in the documentation: https://pandas.pydata.org/pandas-docs/stable/user_guide/indexing.html#returning-a-view-versus-a-copy\n",
      "  data['genres']=data['genres'].apply(convert)\n"
     ]
    }
   ],
   "source": [
    "data['genres']=data['genres'].apply(convert)"
   ]
  },
  {
   "cell_type": "code",
   "execution_count": 21,
   "id": "df24dff8",
   "metadata": {
    "execution": {
     "iopub.execute_input": "2023-10-13T15:27:30.833811Z",
     "iopub.status.busy": "2023-10-13T15:27:30.832785Z",
     "iopub.status.idle": "2023-10-13T15:27:31.235729Z",
     "shell.execute_reply": "2023-10-13T15:27:31.234640Z"
    },
    "papermill": {
     "duration": 0.424366,
     "end_time": "2023-10-13T15:27:31.238572",
     "exception": false,
     "start_time": "2023-10-13T15:27:30.814206",
     "status": "completed"
    },
    "tags": []
   },
   "outputs": [
    {
     "name": "stderr",
     "output_type": "stream",
     "text": [
      "C:\\Users\\aakas\\AppData\\Local\\Temp\\ipykernel_1564\\2280138419.py:1: SettingWithCopyWarning: \n",
      "A value is trying to be set on a copy of a slice from a DataFrame.\n",
      "Try using .loc[row_indexer,col_indexer] = value instead\n",
      "\n",
      "See the caveats in the documentation: https://pandas.pydata.org/pandas-docs/stable/user_guide/indexing.html#returning-a-view-versus-a-copy\n",
      "  data['keywords']=data['keywords'].apply(convert)\n"
     ]
    }
   ],
   "source": [
    "data['keywords']=data['keywords'].apply(convert)"
   ]
  },
  {
   "cell_type": "code",
   "execution_count": 22,
   "id": "6d11d7b6",
   "metadata": {
    "execution": {
     "iopub.execute_input": "2023-10-13T15:27:31.267153Z",
     "iopub.status.busy": "2023-10-13T15:27:31.266048Z",
     "iopub.status.idle": "2023-10-13T15:27:31.272036Z",
     "shell.execute_reply": "2023-10-13T15:27:31.271329Z"
    },
    "papermill": {
     "duration": 0.022237,
     "end_time": "2023-10-13T15:27:31.274022",
     "exception": false,
     "start_time": "2023-10-13T15:27:31.251785",
     "status": "completed"
    },
    "tags": []
   },
   "outputs": [],
   "source": [
    "def convert1(obj):\n",
    "    name=[]\n",
    "    counter=0\n",
    "    obj=ast.literal_eval(obj)\n",
    "    for i in obj:\n",
    "        if counter !=3:\n",
    "            name.append(i['name'])\n",
    "            counter+=1\n",
    "        else:\n",
    "            break\n",
    "    return name"
   ]
  },
  {
   "cell_type": "code",
   "execution_count": 23,
   "id": "c0da4f12",
   "metadata": {
    "execution": {
     "iopub.execute_input": "2023-10-13T15:27:31.301843Z",
     "iopub.status.busy": "2023-10-13T15:27:31.301115Z",
     "iopub.status.idle": "2023-10-13T15:27:34.482143Z",
     "shell.execute_reply": "2023-10-13T15:27:34.481007Z"
    },
    "papermill": {
     "duration": 3.198025,
     "end_time": "2023-10-13T15:27:34.484880",
     "exception": false,
     "start_time": "2023-10-13T15:27:31.286855",
     "status": "completed"
    },
    "tags": []
   },
   "outputs": [
    {
     "name": "stderr",
     "output_type": "stream",
     "text": [
      "C:\\Users\\aakas\\AppData\\Local\\Temp\\ipykernel_1564\\3620725859.py:1: SettingWithCopyWarning: \n",
      "A value is trying to be set on a copy of a slice from a DataFrame.\n",
      "Try using .loc[row_indexer,col_indexer] = value instead\n",
      "\n",
      "See the caveats in the documentation: https://pandas.pydata.org/pandas-docs/stable/user_guide/indexing.html#returning-a-view-versus-a-copy\n",
      "  data['cast']=data['cast'].apply(convert1)\n"
     ]
    }
   ],
   "source": [
    "data['cast']=data['cast'].apply(convert1)"
   ]
  },
  {
   "cell_type": "code",
   "execution_count": 24,
   "id": "913241ee",
   "metadata": {
    "execution": {
     "iopub.execute_input": "2023-10-13T15:27:34.512346Z",
     "iopub.status.busy": "2023-10-13T15:27:34.512032Z",
     "iopub.status.idle": "2023-10-13T15:27:34.521074Z",
     "shell.execute_reply": "2023-10-13T15:27:34.519981Z"
    },
    "papermill": {
     "duration": 0.024606,
     "end_time": "2023-10-13T15:27:34.522983",
     "exception": false,
     "start_time": "2023-10-13T15:27:34.498377",
     "status": "completed"
    },
    "tags": []
   },
   "outputs": [
    {
     "data": {
      "text/plain": [
       "0        [Sam Worthington, Zoe Saldana, Sigourney Weaver]\n",
       "1           [Johnny Depp, Orlando Bloom, Keira Knightley]\n",
       "2            [Daniel Craig, Christoph Waltz, Léa Seydoux]\n",
       "3            [Christian Bale, Michael Caine, Gary Oldman]\n",
       "4          [Taylor Kitsch, Lynn Collins, Samantha Morton]\n",
       "                              ...                        \n",
       "4804    [Carlos Gallardo, Jaime de Hoyos, Peter Marqua...\n",
       "4805         [Edward Burns, Kerry Bishé, Marsha Dietlein]\n",
       "4806           [Eric Mabius, Kristin Booth, Crystal Lowe]\n",
       "4807            [Daniel Henney, Eliza Coupe, Bill Paxton]\n",
       "4808    [Drew Barrymore, Brian Herzlinger, Corey Feldman]\n",
       "Name: cast, Length: 4806, dtype: object"
      ]
     },
     "execution_count": 24,
     "metadata": {},
     "output_type": "execute_result"
    }
   ],
   "source": [
    "data['cast']"
   ]
  },
  {
   "cell_type": "code",
   "execution_count": 25,
   "id": "9b7edeac",
   "metadata": {
    "execution": {
     "iopub.execute_input": "2023-10-13T15:27:34.549415Z",
     "iopub.status.busy": "2023-10-13T15:27:34.549100Z",
     "iopub.status.idle": "2023-10-13T15:27:34.565707Z",
     "shell.execute_reply": "2023-10-13T15:27:34.564723Z"
    },
    "papermill": {
     "duration": 0.032278,
     "end_time": "2023-10-13T15:27:34.567675",
     "exception": false,
     "start_time": "2023-10-13T15:27:34.535397",
     "status": "completed"
    },
    "tags": []
   },
   "outputs": [
    {
     "data": {
      "text/html": [
       "<div>\n",
       "<style scoped>\n",
       "    .dataframe tbody tr th:only-of-type {\n",
       "        vertical-align: middle;\n",
       "    }\n",
       "\n",
       "    .dataframe tbody tr th {\n",
       "        vertical-align: top;\n",
       "    }\n",
       "\n",
       "    .dataframe thead th {\n",
       "        text-align: right;\n",
       "    }\n",
       "</style>\n",
       "<table border=\"1\" class=\"dataframe\">\n",
       "  <thead>\n",
       "    <tr style=\"text-align: right;\">\n",
       "      <th></th>\n",
       "      <th>movie_id</th>\n",
       "      <th>title</th>\n",
       "      <th>genres</th>\n",
       "      <th>keywords</th>\n",
       "      <th>overview</th>\n",
       "      <th>popularity</th>\n",
       "      <th>cast</th>\n",
       "      <th>crew</th>\n",
       "    </tr>\n",
       "  </thead>\n",
       "  <tbody>\n",
       "    <tr>\n",
       "      <th>4643</th>\n",
       "      <td>32222</td>\n",
       "      <td>American Desi</td>\n",
       "      <td>[Drama, Comedy, Romance]</td>\n",
       "      <td>[tradition, indian lead, roommate, culture cla...</td>\n",
       "      <td>This is a fun-loving romantic comedy reminisce...</td>\n",
       "      <td>0.126304</td>\n",
       "      <td>[Kal Penn, Purva Bedi, Deep Katdare]</td>\n",
       "      <td>[{\"credit_id\": \"57fd2ab3c3a3681b91000b83\", \"de...</td>\n",
       "    </tr>\n",
       "    <tr>\n",
       "      <th>1387</th>\n",
       "      <td>39486</td>\n",
       "      <td>Secretariat</td>\n",
       "      <td>[Drama]</td>\n",
       "      <td>[horse race, horseback riding, biography]</td>\n",
       "      <td>Housewife and mother Penny Chenery agrees to t...</td>\n",
       "      <td>9.525037</td>\n",
       "      <td>[Diane Lane, John Malkovich, Scott Glenn]</td>\n",
       "      <td>[{\"credit_id\": \"52fe471e9251416c9106a99f\", \"de...</td>\n",
       "    </tr>\n",
       "    <tr>\n",
       "      <th>2948</th>\n",
       "      <td>11184</td>\n",
       "      <td>Kinsey</td>\n",
       "      <td>[Drama]</td>\n",
       "      <td>[free love, sex, sexuality, indiana, professor...</td>\n",
       "      <td>Kinsey is a portrait of researcher Alfred Kins...</td>\n",
       "      <td>6.799314</td>\n",
       "      <td>[Liam Neeson, Laura Linney, Chris O'Donnell]</td>\n",
       "      <td>[{\"credit_id\": \"52fe440a9251416c75026e39\", \"de...</td>\n",
       "    </tr>\n",
       "    <tr>\n",
       "      <th>3750</th>\n",
       "      <td>451</td>\n",
       "      <td>Leaving Las Vegas</td>\n",
       "      <td>[Drama, Romance]</td>\n",
       "      <td>[individual, prostitute, alcohol, casino, love...</td>\n",
       "      <td>Ben Sanderson, an alcoholic Hollywood screenwr...</td>\n",
       "      <td>22.030517</td>\n",
       "      <td>[Nicolas Cage, Elisabeth Shue, Julian Sands]</td>\n",
       "      <td>[{\"credit_id\": \"52fe4245c3a36847f80111c3\", \"de...</td>\n",
       "    </tr>\n",
       "    <tr>\n",
       "      <th>4178</th>\n",
       "      <td>33511</td>\n",
       "      <td>Nowhere Boy</td>\n",
       "      <td>[Drama]</td>\n",
       "      <td>[musician, musical, biography, teenager, dark ...</td>\n",
       "      <td>The drama tells the story of Lennon's teenage ...</td>\n",
       "      <td>1.950959</td>\n",
       "      <td>[Aaron Taylor-Johnson, Anne-Marie Duff, Kristi...</td>\n",
       "      <td>[{\"credit_id\": \"59486b2cc3a36811150348b2\", \"de...</td>\n",
       "    </tr>\n",
       "  </tbody>\n",
       "</table>\n",
       "</div>"
      ],
      "text/plain": [
       "      movie_id              title                    genres  \\\n",
       "4643     32222      American Desi  [Drama, Comedy, Romance]   \n",
       "1387     39486        Secretariat                   [Drama]   \n",
       "2948     11184             Kinsey                   [Drama]   \n",
       "3750       451  Leaving Las Vegas          [Drama, Romance]   \n",
       "4178     33511        Nowhere Boy                   [Drama]   \n",
       "\n",
       "                                               keywords  \\\n",
       "4643  [tradition, indian lead, roommate, culture cla...   \n",
       "1387          [horse race, horseback riding, biography]   \n",
       "2948  [free love, sex, sexuality, indiana, professor...   \n",
       "3750  [individual, prostitute, alcohol, casino, love...   \n",
       "4178  [musician, musical, biography, teenager, dark ...   \n",
       "\n",
       "                                               overview  popularity  \\\n",
       "4643  This is a fun-loving romantic comedy reminisce...    0.126304   \n",
       "1387  Housewife and mother Penny Chenery agrees to t...    9.525037   \n",
       "2948  Kinsey is a portrait of researcher Alfred Kins...    6.799314   \n",
       "3750  Ben Sanderson, an alcoholic Hollywood screenwr...   22.030517   \n",
       "4178  The drama tells the story of Lennon's teenage ...    1.950959   \n",
       "\n",
       "                                                   cast  \\\n",
       "4643               [Kal Penn, Purva Bedi, Deep Katdare]   \n",
       "1387          [Diane Lane, John Malkovich, Scott Glenn]   \n",
       "2948       [Liam Neeson, Laura Linney, Chris O'Donnell]   \n",
       "3750       [Nicolas Cage, Elisabeth Shue, Julian Sands]   \n",
       "4178  [Aaron Taylor-Johnson, Anne-Marie Duff, Kristi...   \n",
       "\n",
       "                                                   crew  \n",
       "4643  [{\"credit_id\": \"57fd2ab3c3a3681b91000b83\", \"de...  \n",
       "1387  [{\"credit_id\": \"52fe471e9251416c9106a99f\", \"de...  \n",
       "2948  [{\"credit_id\": \"52fe440a9251416c75026e39\", \"de...  \n",
       "3750  [{\"credit_id\": \"52fe4245c3a36847f80111c3\", \"de...  \n",
       "4178  [{\"credit_id\": \"59486b2cc3a36811150348b2\", \"de...  "
      ]
     },
     "execution_count": 25,
     "metadata": {},
     "output_type": "execute_result"
    }
   ],
   "source": [
    "data.sample(5)"
   ]
  },
  {
   "cell_type": "code",
   "execution_count": 26,
   "id": "18478b78",
   "metadata": {
    "execution": {
     "iopub.execute_input": "2023-10-13T15:27:34.595094Z",
     "iopub.status.busy": "2023-10-13T15:27:34.594749Z",
     "iopub.status.idle": "2023-10-13T15:27:34.598842Z",
     "shell.execute_reply": "2023-10-13T15:27:34.598163Z"
    },
    "papermill": {
     "duration": 0.020412,
     "end_time": "2023-10-13T15:27:34.600860",
     "exception": false,
     "start_time": "2023-10-13T15:27:34.580448",
     "status": "completed"
    },
    "tags": []
   },
   "outputs": [],
   "source": [
    "def covert2(obj):\n",
    "    name=[]\n",
    "    obj=ast.literal_eval(obj)\n",
    "    for i in obj:\n",
    "        if i['job']=='Director':\n",
    "            name.append(i['name'])\n",
    "            break\n",
    "\n",
    "    return name"
   ]
  },
  {
   "cell_type": "code",
   "execution_count": 27,
   "id": "ce205f65",
   "metadata": {
    "execution": {
     "iopub.execute_input": "2023-10-13T15:27:34.629478Z",
     "iopub.status.busy": "2023-10-13T15:27:34.629153Z",
     "iopub.status.idle": "2023-10-13T15:27:38.237379Z",
     "shell.execute_reply": "2023-10-13T15:27:38.236350Z"
    },
    "papermill": {
     "duration": 3.624994,
     "end_time": "2023-10-13T15:27:38.239627",
     "exception": false,
     "start_time": "2023-10-13T15:27:34.614633",
     "status": "completed"
    },
    "tags": []
   },
   "outputs": [
    {
     "name": "stderr",
     "output_type": "stream",
     "text": [
      "C:\\Users\\aakas\\AppData\\Local\\Temp\\ipykernel_1564\\1860384235.py:1: SettingWithCopyWarning: \n",
      "A value is trying to be set on a copy of a slice from a DataFrame.\n",
      "Try using .loc[row_indexer,col_indexer] = value instead\n",
      "\n",
      "See the caveats in the documentation: https://pandas.pydata.org/pandas-docs/stable/user_guide/indexing.html#returning-a-view-versus-a-copy\n",
      "  data['crew']=data['crew'].apply(covert2)\n"
     ]
    }
   ],
   "source": [
    "data['crew']=data['crew'].apply(covert2)"
   ]
  },
  {
   "cell_type": "code",
   "execution_count": 28,
   "id": "47eed211",
   "metadata": {
    "execution": {
     "iopub.execute_input": "2023-10-13T15:27:38.267215Z",
     "iopub.status.busy": "2023-10-13T15:27:38.266809Z",
     "iopub.status.idle": "2023-10-13T15:27:38.275976Z",
     "shell.execute_reply": "2023-10-13T15:27:38.274893Z"
    },
    "papermill": {
     "duration": 0.025198,
     "end_time": "2023-10-13T15:27:38.277959",
     "exception": false,
     "start_time": "2023-10-13T15:27:38.252761",
     "status": "completed"
    },
    "tags": []
   },
   "outputs": [
    {
     "data": {
      "text/plain": [
       "0           [James Cameron]\n",
       "1          [Gore Verbinski]\n",
       "2              [Sam Mendes]\n",
       "3       [Christopher Nolan]\n",
       "4          [Andrew Stanton]\n",
       "               ...         \n",
       "4804     [Robert Rodriguez]\n",
       "4805         [Edward Burns]\n",
       "4806          [Scott Smith]\n",
       "4807          [Daniel Hsia]\n",
       "4808     [Brian Herzlinger]\n",
       "Name: crew, Length: 4806, dtype: object"
      ]
     },
     "execution_count": 28,
     "metadata": {},
     "output_type": "execute_result"
    }
   ],
   "source": [
    "data['crew']"
   ]
  },
  {
   "cell_type": "code",
   "execution_count": 29,
   "id": "081990f8",
   "metadata": {
    "execution": {
     "iopub.execute_input": "2023-10-13T15:27:38.305520Z",
     "iopub.status.busy": "2023-10-13T15:27:38.305169Z",
     "iopub.status.idle": "2023-10-13T15:27:38.311995Z",
     "shell.execute_reply": "2023-10-13T15:27:38.310692Z"
    },
    "papermill": {
     "duration": 0.023128,
     "end_time": "2023-10-13T15:27:38.314158",
     "exception": false,
     "start_time": "2023-10-13T15:27:38.291030",
     "status": "completed"
    },
    "tags": []
   },
   "outputs": [
    {
     "data": {
      "text/plain": [
       "'In the 22nd century, a paraplegic Marine is dispatched to the moon Pandora on a unique mission, but becomes torn between following orders and protecting an alien civilization.'"
      ]
     },
     "execution_count": 29,
     "metadata": {},
     "output_type": "execute_result"
    }
   ],
   "source": [
    "data['overview'][0]"
   ]
  },
  {
   "cell_type": "code",
   "execution_count": 30,
   "id": "960c2838",
   "metadata": {
    "execution": {
     "iopub.execute_input": "2023-10-13T15:27:38.341745Z",
     "iopub.status.busy": "2023-10-13T15:27:38.341391Z",
     "iopub.status.idle": "2023-10-13T15:27:38.386303Z",
     "shell.execute_reply": "2023-10-13T15:27:38.385170Z"
    },
    "papermill": {
     "duration": 0.061055,
     "end_time": "2023-10-13T15:27:38.388415",
     "exception": false,
     "start_time": "2023-10-13T15:27:38.327360",
     "status": "completed"
    },
    "tags": []
   },
   "outputs": [
    {
     "name": "stderr",
     "output_type": "stream",
     "text": [
      "C:\\Users\\aakas\\AppData\\Local\\Temp\\ipykernel_1564\\2762416482.py:1: SettingWithCopyWarning: \n",
      "A value is trying to be set on a copy of a slice from a DataFrame.\n",
      "Try using .loc[row_indexer,col_indexer] = value instead\n",
      "\n",
      "See the caveats in the documentation: https://pandas.pydata.org/pandas-docs/stable/user_guide/indexing.html#returning-a-view-versus-a-copy\n",
      "  data['overview']=data['overview'].apply(lambda x:x.split())\n"
     ]
    },
    {
     "data": {
      "text/plain": [
       "0       [In, the, 22nd, century,, a, paraplegic, Marin...\n",
       "1       [Captain, Barbossa,, long, believed, to, be, d...\n",
       "2       [A, cryptic, message, from, Bond’s, past, send...\n",
       "3       [Following, the, death, of, District, Attorney...\n",
       "4       [John, Carter, is, a, war-weary,, former, mili...\n",
       "                              ...                        \n",
       "4804    [El, Mariachi, just, wants, to, play, his, gui...\n",
       "4805    [A, newlywed, couple's, honeymoon, is, upended...\n",
       "4806    [\"Signed,, Sealed,, Delivered\", introduces, a,...\n",
       "4807    [When, ambitious, New, York, attorney, Sam, is...\n",
       "4808    [Ever, since, the, second, grade, when, he, fi...\n",
       "Name: overview, Length: 4806, dtype: object"
      ]
     },
     "execution_count": 30,
     "metadata": {},
     "output_type": "execute_result"
    }
   ],
   "source": [
    "data['overview']=data['overview'].apply(lambda x:x.split())\n",
    "data['overview']"
   ]
  },
  {
   "cell_type": "code",
   "execution_count": 31,
   "id": "1d46eea1",
   "metadata": {
    "execution": {
     "iopub.execute_input": "2023-10-13T15:27:38.417676Z",
     "iopub.status.busy": "2023-10-13T15:27:38.416649Z",
     "iopub.status.idle": "2023-10-13T15:27:38.537212Z",
     "shell.execute_reply": "2023-10-13T15:27:38.536495Z"
    },
    "papermill": {
     "duration": 0.137576,
     "end_time": "2023-10-13T15:27:38.539596",
     "exception": false,
     "start_time": "2023-10-13T15:27:38.402020",
     "status": "completed"
    },
    "tags": []
   },
   "outputs": [
    {
     "name": "stderr",
     "output_type": "stream",
     "text": [
      "C:\\Users\\aakas\\AppData\\Local\\Temp\\ipykernel_1564\\1569426927.py:1: SettingWithCopyWarning: \n",
      "A value is trying to be set on a copy of a slice from a DataFrame.\n",
      "Try using .loc[row_indexer,col_indexer] = value instead\n",
      "\n",
      "See the caveats in the documentation: https://pandas.pydata.org/pandas-docs/stable/user_guide/indexing.html#returning-a-view-versus-a-copy\n",
      "  data['genres']=data['genres'].apply(lambda x:[i.replace(\" \",\"\") for i in x])\n",
      "C:\\Users\\aakas\\AppData\\Local\\Temp\\ipykernel_1564\\1569426927.py:2: SettingWithCopyWarning: \n",
      "A value is trying to be set on a copy of a slice from a DataFrame.\n",
      "Try using .loc[row_indexer,col_indexer] = value instead\n",
      "\n",
      "See the caveats in the documentation: https://pandas.pydata.org/pandas-docs/stable/user_guide/indexing.html#returning-a-view-versus-a-copy\n",
      "  data['keywords']=data['keywords'].apply(lambda x:[i.replace(\" \",\"\") for i in x])\n",
      "C:\\Users\\aakas\\AppData\\Local\\Temp\\ipykernel_1564\\1569426927.py:3: SettingWithCopyWarning: \n",
      "A value is trying to be set on a copy of a slice from a DataFrame.\n",
      "Try using .loc[row_indexer,col_indexer] = value instead\n",
      "\n",
      "See the caveats in the documentation: https://pandas.pydata.org/pandas-docs/stable/user_guide/indexing.html#returning-a-view-versus-a-copy\n",
      "  data['cast']=data['cast'].apply(lambda x:[i.replace(\" \",\"\") for i in x])\n",
      "C:\\Users\\aakas\\AppData\\Local\\Temp\\ipykernel_1564\\1569426927.py:4: SettingWithCopyWarning: \n",
      "A value is trying to be set on a copy of a slice from a DataFrame.\n",
      "Try using .loc[row_indexer,col_indexer] = value instead\n",
      "\n",
      "See the caveats in the documentation: https://pandas.pydata.org/pandas-docs/stable/user_guide/indexing.html#returning-a-view-versus-a-copy\n",
      "  data['crew']=data['crew'].apply(lambda x:[i.replace(\" \",\"\") for i in x])\n"
     ]
    }
   ],
   "source": [
    "data['genres']=data['genres'].apply(lambda x:[i.replace(\" \",\"\") for i in x])\n",
    "data['keywords']=data['keywords'].apply(lambda x:[i.replace(\" \",\"\") for i in x])\n",
    "data['cast']=data['cast'].apply(lambda x:[i.replace(\" \",\"\") for i in x])\n",
    "data['crew']=data['crew'].apply(lambda x:[i.replace(\" \",\"\") for i in x])\n"
   ]
  },
  {
   "cell_type": "code",
   "execution_count": 32,
   "id": "89a41245",
   "metadata": {
    "execution": {
     "iopub.execute_input": "2023-10-13T15:27:38.568138Z",
     "iopub.status.busy": "2023-10-13T15:27:38.567747Z",
     "iopub.status.idle": "2023-10-13T15:27:38.586790Z",
     "shell.execute_reply": "2023-10-13T15:27:38.585710Z"
    },
    "papermill": {
     "duration": 0.03561,
     "end_time": "2023-10-13T15:27:38.588648",
     "exception": false,
     "start_time": "2023-10-13T15:27:38.553038",
     "status": "completed"
    },
    "tags": []
   },
   "outputs": [
    {
     "data": {
      "text/html": [
       "<div>\n",
       "<style scoped>\n",
       "    .dataframe tbody tr th:only-of-type {\n",
       "        vertical-align: middle;\n",
       "    }\n",
       "\n",
       "    .dataframe tbody tr th {\n",
       "        vertical-align: top;\n",
       "    }\n",
       "\n",
       "    .dataframe thead th {\n",
       "        text-align: right;\n",
       "    }\n",
       "</style>\n",
       "<table border=\"1\" class=\"dataframe\">\n",
       "  <thead>\n",
       "    <tr style=\"text-align: right;\">\n",
       "      <th></th>\n",
       "      <th>movie_id</th>\n",
       "      <th>title</th>\n",
       "      <th>genres</th>\n",
       "      <th>keywords</th>\n",
       "      <th>overview</th>\n",
       "      <th>popularity</th>\n",
       "      <th>cast</th>\n",
       "      <th>crew</th>\n",
       "    </tr>\n",
       "  </thead>\n",
       "  <tbody>\n",
       "    <tr>\n",
       "      <th>171</th>\n",
       "      <td>8619</td>\n",
       "      <td>Master and Commander: The Far Side of the World</td>\n",
       "      <td>[Adventure]</td>\n",
       "      <td>[naturalist, frigate, selfsurgery, seabattle, ...</td>\n",
       "      <td>[After, an, abrupt, and, violent, encounter, w...</td>\n",
       "      <td>36.973031</td>\n",
       "      <td>[RussellCrowe, PaulBettany, JamesD'Arcy]</td>\n",
       "      <td>[PeterWeir]</td>\n",
       "    </tr>\n",
       "    <tr>\n",
       "      <th>2490</th>\n",
       "      <td>1090</td>\n",
       "      <td>The Thirteenth Floor</td>\n",
       "      <td>[Thriller, ScienceFiction, Mystery]</td>\n",
       "      <td>[artificialintelligence, simulation, computerp...</td>\n",
       "      <td>[Computer, scientist, Hannon, Fuller, has, dis...</td>\n",
       "      <td>19.890428</td>\n",
       "      <td>[CraigBierko, ArminMueller-Stahl, GretchenMol]</td>\n",
       "      <td>[JosefRusnak]</td>\n",
       "    </tr>\n",
       "    <tr>\n",
       "      <th>2392</th>\n",
       "      <td>69848</td>\n",
       "      <td>One Man's Hero</td>\n",
       "      <td>[Western, Action, Drama, History]</td>\n",
       "      <td>[war, army, battlefield, chivalry]</td>\n",
       "      <td>[One, Man's, Hero, tells, the, little-known, s...</td>\n",
       "      <td>0.910529</td>\n",
       "      <td>[TomBerenger, JoaquimdeAlmeida, DanielaRomo]</td>\n",
       "      <td>[LanceHool]</td>\n",
       "    </tr>\n",
       "    <tr>\n",
       "      <th>4570</th>\n",
       "      <td>94072</td>\n",
       "      <td>Straight Out of Brooklyn</td>\n",
       "      <td>[Drama]</td>\n",
       "      <td>[]</td>\n",
       "      <td>[A, Special, Jury, Award, winner, at, the, Sun...</td>\n",
       "      <td>0.161517</td>\n",
       "      <td>[]</td>\n",
       "      <td>[MattyRich]</td>\n",
       "    </tr>\n",
       "    <tr>\n",
       "      <th>1925</th>\n",
       "      <td>133698</td>\n",
       "      <td>Fly Me to the Moon</td>\n",
       "      <td>[Comedy, Romance]</td>\n",
       "      <td>[]</td>\n",
       "      <td>[Successful, woman, in, love, tries, to, break...</td>\n",
       "      <td>11.609210</td>\n",
       "      <td>[DianeKruger, DanyBoon, AlicePol]</td>\n",
       "      <td>[PascalChaumeil]</td>\n",
       "    </tr>\n",
       "  </tbody>\n",
       "</table>\n",
       "</div>"
      ],
      "text/plain": [
       "      movie_id                                            title  \\\n",
       "171       8619  Master and Commander: The Far Side of the World   \n",
       "2490      1090                             The Thirteenth Floor   \n",
       "2392     69848                                   One Man's Hero   \n",
       "4570     94072                         Straight Out of Brooklyn   \n",
       "1925    133698                               Fly Me to the Moon   \n",
       "\n",
       "                                   genres  \\\n",
       "171                           [Adventure]   \n",
       "2490  [Thriller, ScienceFiction, Mystery]   \n",
       "2392    [Western, Action, Drama, History]   \n",
       "4570                              [Drama]   \n",
       "1925                    [Comedy, Romance]   \n",
       "\n",
       "                                               keywords  \\\n",
       "171   [naturalist, frigate, selfsurgery, seabattle, ...   \n",
       "2490  [artificialintelligence, simulation, computerp...   \n",
       "2392                 [war, army, battlefield, chivalry]   \n",
       "4570                                                 []   \n",
       "1925                                                 []   \n",
       "\n",
       "                                               overview  popularity  \\\n",
       "171   [After, an, abrupt, and, violent, encounter, w...   36.973031   \n",
       "2490  [Computer, scientist, Hannon, Fuller, has, dis...   19.890428   \n",
       "2392  [One, Man's, Hero, tells, the, little-known, s...    0.910529   \n",
       "4570  [A, Special, Jury, Award, winner, at, the, Sun...    0.161517   \n",
       "1925  [Successful, woman, in, love, tries, to, break...   11.609210   \n",
       "\n",
       "                                                cast              crew  \n",
       "171         [RussellCrowe, PaulBettany, JamesD'Arcy]       [PeterWeir]  \n",
       "2490  [CraigBierko, ArminMueller-Stahl, GretchenMol]     [JosefRusnak]  \n",
       "2392    [TomBerenger, JoaquimdeAlmeida, DanielaRomo]       [LanceHool]  \n",
       "4570                                              []       [MattyRich]  \n",
       "1925               [DianeKruger, DanyBoon, AlicePol]  [PascalChaumeil]  "
      ]
     },
     "execution_count": 32,
     "metadata": {},
     "output_type": "execute_result"
    }
   ],
   "source": [
    "data.sample(5)"
   ]
  },
  {
   "cell_type": "code",
   "execution_count": 33,
   "id": "46aa05b7",
   "metadata": {
    "execution": {
     "iopub.execute_input": "2023-10-13T15:27:38.617684Z",
     "iopub.status.busy": "2023-10-13T15:27:38.617334Z",
     "iopub.status.idle": "2023-10-13T15:27:38.670810Z",
     "shell.execute_reply": "2023-10-13T15:27:38.670070Z"
    },
    "papermill": {
     "duration": 0.070568,
     "end_time": "2023-10-13T15:27:38.672929",
     "exception": false,
     "start_time": "2023-10-13T15:27:38.602361",
     "status": "completed"
    },
    "tags": []
   },
   "outputs": [
    {
     "name": "stderr",
     "output_type": "stream",
     "text": [
      "C:\\Users\\aakas\\AppData\\Local\\Temp\\ipykernel_1564\\1391481679.py:1: SettingWithCopyWarning: \n",
      "A value is trying to be set on a copy of a slice from a DataFrame.\n",
      "Try using .loc[row_indexer,col_indexer] = value instead\n",
      "\n",
      "See the caveats in the documentation: https://pandas.pydata.org/pandas-docs/stable/user_guide/indexing.html#returning-a-view-versus-a-copy\n",
      "  data['tags']=data['overview']+data['keywords']+data['genres']+data['cast']+data['crew']\n"
     ]
    }
   ],
   "source": [
    "data['tags']=data['overview']+data['keywords']+data['genres']+data['cast']+data['crew']"
   ]
  },
  {
   "cell_type": "code",
   "execution_count": 34,
   "id": "d52ea275",
   "metadata": {
    "execution": {
     "iopub.execute_input": "2023-10-13T15:27:38.701917Z",
     "iopub.status.busy": "2023-10-13T15:27:38.701327Z",
     "iopub.status.idle": "2023-10-13T15:27:38.716514Z",
     "shell.execute_reply": "2023-10-13T15:27:38.715505Z"
    },
    "papermill": {
     "duration": 0.031873,
     "end_time": "2023-10-13T15:27:38.718475",
     "exception": false,
     "start_time": "2023-10-13T15:27:38.686602",
     "status": "completed"
    },
    "tags": []
   },
   "outputs": [
    {
     "data": {
      "text/html": [
       "<div>\n",
       "<style scoped>\n",
       "    .dataframe tbody tr th:only-of-type {\n",
       "        vertical-align: middle;\n",
       "    }\n",
       "\n",
       "    .dataframe tbody tr th {\n",
       "        vertical-align: top;\n",
       "    }\n",
       "\n",
       "    .dataframe thead th {\n",
       "        text-align: right;\n",
       "    }\n",
       "</style>\n",
       "<table border=\"1\" class=\"dataframe\">\n",
       "  <thead>\n",
       "    <tr style=\"text-align: right;\">\n",
       "      <th></th>\n",
       "      <th>movie_id</th>\n",
       "      <th>title</th>\n",
       "      <th>genres</th>\n",
       "      <th>keywords</th>\n",
       "      <th>overview</th>\n",
       "      <th>popularity</th>\n",
       "      <th>cast</th>\n",
       "      <th>crew</th>\n",
       "      <th>tags</th>\n",
       "    </tr>\n",
       "  </thead>\n",
       "  <tbody>\n",
       "    <tr>\n",
       "      <th>1505</th>\n",
       "      <td>55721</td>\n",
       "      <td>Bridesmaids</td>\n",
       "      <td>[Comedy, Romance]</td>\n",
       "      <td>[competition, jealousy, fight, materialism, br...</td>\n",
       "      <td>[Annie’s, life, is, a, mess., But, when, she, ...</td>\n",
       "      <td>17.107065</td>\n",
       "      <td>[KristenWiig, RoseByrne, MayaRudolph]</td>\n",
       "      <td>[PaulFeig]</td>\n",
       "      <td>[Annie’s, life, is, a, mess., But, when, she, ...</td>\n",
       "    </tr>\n",
       "  </tbody>\n",
       "</table>\n",
       "</div>"
      ],
      "text/plain": [
       "      movie_id        title             genres  \\\n",
       "1505     55721  Bridesmaids  [Comedy, Romance]   \n",
       "\n",
       "                                               keywords  \\\n",
       "1505  [competition, jealousy, fight, materialism, br...   \n",
       "\n",
       "                                               overview  popularity  \\\n",
       "1505  [Annie’s, life, is, a, mess., But, when, she, ...   17.107065   \n",
       "\n",
       "                                       cast        crew  \\\n",
       "1505  [KristenWiig, RoseByrne, MayaRudolph]  [PaulFeig]   \n",
       "\n",
       "                                                   tags  \n",
       "1505  [Annie’s, life, is, a, mess., But, when, she, ...  "
      ]
     },
     "execution_count": 34,
     "metadata": {},
     "output_type": "execute_result"
    }
   ],
   "source": [
    "data.sample()"
   ]
  },
  {
   "cell_type": "code",
   "execution_count": 35,
   "id": "7b492892",
   "metadata": {
    "execution": {
     "iopub.execute_input": "2023-10-13T15:27:38.748014Z",
     "iopub.status.busy": "2023-10-13T15:27:38.747672Z",
     "iopub.status.idle": "2023-10-13T15:27:38.760138Z",
     "shell.execute_reply": "2023-10-13T15:27:38.759161Z"
    },
    "papermill": {
     "duration": 0.029573,
     "end_time": "2023-10-13T15:27:38.762029",
     "exception": false,
     "start_time": "2023-10-13T15:27:38.732456",
     "status": "completed"
    },
    "tags": []
   },
   "outputs": [
    {
     "data": {
      "text/html": [
       "<div>\n",
       "<style scoped>\n",
       "    .dataframe tbody tr th:only-of-type {\n",
       "        vertical-align: middle;\n",
       "    }\n",
       "\n",
       "    .dataframe tbody tr th {\n",
       "        vertical-align: top;\n",
       "    }\n",
       "\n",
       "    .dataframe thead th {\n",
       "        text-align: right;\n",
       "    }\n",
       "</style>\n",
       "<table border=\"1\" class=\"dataframe\">\n",
       "  <thead>\n",
       "    <tr style=\"text-align: right;\">\n",
       "      <th></th>\n",
       "      <th>movie_id</th>\n",
       "      <th>title</th>\n",
       "      <th>tags</th>\n",
       "      <th>popularity</th>\n",
       "    </tr>\n",
       "  </thead>\n",
       "  <tbody>\n",
       "    <tr>\n",
       "      <th>4713</th>\n",
       "      <td>50497</td>\n",
       "      <td>When the Lights Went Out</td>\n",
       "      <td>[Yorkshire,, 1974,, the, Maynard, family, move...</td>\n",
       "      <td>2.805351</td>\n",
       "    </tr>\n",
       "    <tr>\n",
       "      <th>4542</th>\n",
       "      <td>84318</td>\n",
       "      <td>The Other Dream Team</td>\n",
       "      <td>[The, incredible, story, of, the, 1992, Lithua...</td>\n",
       "      <td>0.388401</td>\n",
       "    </tr>\n",
       "    <tr>\n",
       "      <th>784</th>\n",
       "      <td>2312</td>\n",
       "      <td>In the Name of the King: A Dungeon Siege Tale</td>\n",
       "      <td>[A, man, named, Farmer, sets, out, to, rescue,...</td>\n",
       "      <td>15.406173</td>\n",
       "    </tr>\n",
       "  </tbody>\n",
       "</table>\n",
       "</div>"
      ],
      "text/plain": [
       "      movie_id                                          title  \\\n",
       "4713     50497                       When the Lights Went Out   \n",
       "4542     84318                           The Other Dream Team   \n",
       "784       2312  In the Name of the King: A Dungeon Siege Tale   \n",
       "\n",
       "                                                   tags  popularity  \n",
       "4713  [Yorkshire,, 1974,, the, Maynard, family, move...    2.805351  \n",
       "4542  [The, incredible, story, of, the, 1992, Lithua...    0.388401  \n",
       "784   [A, man, named, Farmer, sets, out, to, rescue,...   15.406173  "
      ]
     },
     "execution_count": 35,
     "metadata": {},
     "output_type": "execute_result"
    }
   ],
   "source": [
    "n_data=data[['movie_id','title','tags','popularity']]\n",
    "n_data.sample(3)"
   ]
  },
  {
   "cell_type": "code",
   "execution_count": 36,
   "id": "78eff463",
   "metadata": {
    "execution": {
     "iopub.execute_input": "2023-10-13T15:27:38.792213Z",
     "iopub.status.busy": "2023-10-13T15:27:38.791895Z",
     "iopub.status.idle": "2023-10-13T15:27:38.820277Z",
     "shell.execute_reply": "2023-10-13T15:27:38.819343Z"
    },
    "papermill": {
     "duration": 0.045712,
     "end_time": "2023-10-13T15:27:38.821990",
     "exception": false,
     "start_time": "2023-10-13T15:27:38.776278",
     "status": "completed"
    },
    "tags": []
   },
   "outputs": [
    {
     "name": "stderr",
     "output_type": "stream",
     "text": [
      "C:\\Users\\aakas\\AppData\\Local\\Temp\\ipykernel_1564\\1883738183.py:1: SettingWithCopyWarning: \n",
      "A value is trying to be set on a copy of a slice from a DataFrame.\n",
      "Try using .loc[row_indexer,col_indexer] = value instead\n",
      "\n",
      "See the caveats in the documentation: https://pandas.pydata.org/pandas-docs/stable/user_guide/indexing.html#returning-a-view-versus-a-copy\n",
      "  n_data['tags']=n_data['tags'].apply(lambda x:\" \".join(x))\n",
      "C:\\Users\\aakas\\AppData\\Local\\Temp\\ipykernel_1564\\1883738183.py:2: SettingWithCopyWarning: \n",
      "A value is trying to be set on a copy of a slice from a DataFrame.\n",
      "Try using .loc[row_indexer,col_indexer] = value instead\n",
      "\n",
      "See the caveats in the documentation: https://pandas.pydata.org/pandas-docs/stable/user_guide/indexing.html#returning-a-view-versus-a-copy\n",
      "  n_data['tags']=n_data['tags'].apply(lambda x: x.lower())\n"
     ]
    }
   ],
   "source": [
    "n_data['tags']=n_data['tags'].apply(lambda x:\" \".join(x))\n",
    "n_data['tags']=n_data['tags'].apply(lambda x: x.lower())"
   ]
  },
  {
   "cell_type": "code",
   "execution_count": 37,
   "id": "213c8150",
   "metadata": {
    "execution": {
     "iopub.execute_input": "2023-10-13T15:27:38.851329Z",
     "iopub.status.busy": "2023-10-13T15:27:38.851014Z",
     "iopub.status.idle": "2023-10-13T15:27:38.861308Z",
     "shell.execute_reply": "2023-10-13T15:27:38.860373Z"
    },
    "papermill": {
     "duration": 0.027043,
     "end_time": "2023-10-13T15:27:38.863030",
     "exception": false,
     "start_time": "2023-10-13T15:27:38.835987",
     "status": "completed"
    },
    "tags": []
   },
   "outputs": [
    {
     "data": {
      "text/html": [
       "<div>\n",
       "<style scoped>\n",
       "    .dataframe tbody tr th:only-of-type {\n",
       "        vertical-align: middle;\n",
       "    }\n",
       "\n",
       "    .dataframe tbody tr th {\n",
       "        vertical-align: top;\n",
       "    }\n",
       "\n",
       "    .dataframe thead th {\n",
       "        text-align: right;\n",
       "    }\n",
       "</style>\n",
       "<table border=\"1\" class=\"dataframe\">\n",
       "  <thead>\n",
       "    <tr style=\"text-align: right;\">\n",
       "      <th></th>\n",
       "      <th>movie_id</th>\n",
       "      <th>title</th>\n",
       "      <th>tags</th>\n",
       "      <th>popularity</th>\n",
       "    </tr>\n",
       "  </thead>\n",
       "  <tbody>\n",
       "    <tr>\n",
       "      <th>1353</th>\n",
       "      <td>10219</td>\n",
       "      <td>Snow Falling on Cedars</td>\n",
       "      <td>a japanese-american fisherman may have killed ...</td>\n",
       "      <td>2.794830</td>\n",
       "    </tr>\n",
       "    <tr>\n",
       "      <th>3902</th>\n",
       "      <td>158015</td>\n",
       "      <td>The Purge</td>\n",
       "      <td>given the country's overcrowded prisons, the u...</td>\n",
       "      <td>54.403033</td>\n",
       "    </tr>\n",
       "    <tr>\n",
       "      <th>2431</th>\n",
       "      <td>16028</td>\n",
       "      <td>They</td>\n",
       "      <td>after witnessing a horrific and traumatic even...</td>\n",
       "      <td>4.544216</td>\n",
       "    </tr>\n",
       "  </tbody>\n",
       "</table>\n",
       "</div>"
      ],
      "text/plain": [
       "      movie_id                   title  \\\n",
       "1353     10219  Snow Falling on Cedars   \n",
       "3902    158015               The Purge   \n",
       "2431     16028                    They   \n",
       "\n",
       "                                                   tags  popularity  \n",
       "1353  a japanese-american fisherman may have killed ...    2.794830  \n",
       "3902  given the country's overcrowded prisons, the u...   54.403033  \n",
       "2431  after witnessing a horrific and traumatic even...    4.544216  "
      ]
     },
     "execution_count": 37,
     "metadata": {},
     "output_type": "execute_result"
    }
   ],
   "source": [
    "n_data.sample(3)"
   ]
  },
  {
   "cell_type": "code",
   "execution_count": 38,
   "id": "3ca25170",
   "metadata": {
    "execution": {
     "iopub.execute_input": "2023-10-13T15:27:38.892985Z",
     "iopub.status.busy": "2023-10-13T15:27:38.892592Z",
     "iopub.status.idle": "2023-10-13T15:27:38.899076Z",
     "shell.execute_reply": "2023-10-13T15:27:38.898013Z"
    },
    "papermill": {
     "duration": 0.023722,
     "end_time": "2023-10-13T15:27:38.901008",
     "exception": false,
     "start_time": "2023-10-13T15:27:38.877286",
     "status": "completed"
    },
    "tags": []
   },
   "outputs": [
    {
     "data": {
      "text/plain": [
       "(4806, 4)"
      ]
     },
     "execution_count": 38,
     "metadata": {},
     "output_type": "execute_result"
    }
   ],
   "source": [
    "n_data.shape"
   ]
  },
  {
   "cell_type": "code",
   "execution_count": 39,
   "id": "5e49ce52",
   "metadata": {
    "execution": {
     "iopub.execute_input": "2023-10-13T15:27:38.930970Z",
     "iopub.status.busy": "2023-10-13T15:27:38.930583Z",
     "iopub.status.idle": "2023-10-13T15:27:38.954125Z",
     "shell.execute_reply": "2023-10-13T15:27:38.953148Z"
    },
    "papermill": {
     "duration": 0.040965,
     "end_time": "2023-10-13T15:27:38.956278",
     "exception": false,
     "start_time": "2023-10-13T15:27:38.915313",
     "status": "completed"
    },
    "tags": []
   },
   "outputs": [
    {
     "data": {
      "text/html": [
       "<div>\n",
       "<style scoped>\n",
       "    .dataframe tbody tr th:only-of-type {\n",
       "        vertical-align: middle;\n",
       "    }\n",
       "\n",
       "    .dataframe tbody tr th {\n",
       "        vertical-align: top;\n",
       "    }\n",
       "\n",
       "    .dataframe thead th {\n",
       "        text-align: right;\n",
       "    }\n",
       "</style>\n",
       "<table border=\"1\" class=\"dataframe\">\n",
       "  <thead>\n",
       "    <tr style=\"text-align: right;\">\n",
       "      <th></th>\n",
       "      <th>movie_id</th>\n",
       "      <th>title</th>\n",
       "      <th>tags</th>\n",
       "      <th>popularity</th>\n",
       "    </tr>\n",
       "  </thead>\n",
       "  <tbody>\n",
       "    <tr>\n",
       "      <th>0</th>\n",
       "      <td>19995</td>\n",
       "      <td>Avatar</td>\n",
       "      <td>in the 22nd century, a paraplegic marine is di...</td>\n",
       "      <td>150.437577</td>\n",
       "    </tr>\n",
       "    <tr>\n",
       "      <th>1</th>\n",
       "      <td>285</td>\n",
       "      <td>Pirates of the Caribbean: At World's End</td>\n",
       "      <td>captain barbossa, long believed to be dead, ha...</td>\n",
       "      <td>139.082615</td>\n",
       "    </tr>\n",
       "    <tr>\n",
       "      <th>2</th>\n",
       "      <td>206647</td>\n",
       "      <td>Spectre</td>\n",
       "      <td>a cryptic message from bond’s past sends him o...</td>\n",
       "      <td>107.376788</td>\n",
       "    </tr>\n",
       "    <tr>\n",
       "      <th>3</th>\n",
       "      <td>49026</td>\n",
       "      <td>The Dark Knight Rises</td>\n",
       "      <td>following the death of district attorney harve...</td>\n",
       "      <td>112.312950</td>\n",
       "    </tr>\n",
       "    <tr>\n",
       "      <th>4</th>\n",
       "      <td>49529</td>\n",
       "      <td>John Carter</td>\n",
       "      <td>john carter is a war-weary, former military ca...</td>\n",
       "      <td>43.926995</td>\n",
       "    </tr>\n",
       "    <tr>\n",
       "      <th>...</th>\n",
       "      <td>...</td>\n",
       "      <td>...</td>\n",
       "      <td>...</td>\n",
       "      <td>...</td>\n",
       "    </tr>\n",
       "    <tr>\n",
       "      <th>4804</th>\n",
       "      <td>9367</td>\n",
       "      <td>El Mariachi</td>\n",
       "      <td>el mariachi just wants to play his guitar and ...</td>\n",
       "      <td>14.269792</td>\n",
       "    </tr>\n",
       "    <tr>\n",
       "      <th>4805</th>\n",
       "      <td>72766</td>\n",
       "      <td>Newlyweds</td>\n",
       "      <td>a newlywed couple's honeymoon is upended by th...</td>\n",
       "      <td>0.642552</td>\n",
       "    </tr>\n",
       "    <tr>\n",
       "      <th>4806</th>\n",
       "      <td>231617</td>\n",
       "      <td>Signed, Sealed, Delivered</td>\n",
       "      <td>\"signed, sealed, delivered\" introduces a dedic...</td>\n",
       "      <td>1.444476</td>\n",
       "    </tr>\n",
       "    <tr>\n",
       "      <th>4807</th>\n",
       "      <td>126186</td>\n",
       "      <td>Shanghai Calling</td>\n",
       "      <td>when ambitious new york attorney sam is sent t...</td>\n",
       "      <td>0.857008</td>\n",
       "    </tr>\n",
       "    <tr>\n",
       "      <th>4808</th>\n",
       "      <td>25975</td>\n",
       "      <td>My Date with Drew</td>\n",
       "      <td>ever since the second grade when he first saw ...</td>\n",
       "      <td>1.929883</td>\n",
       "    </tr>\n",
       "  </tbody>\n",
       "</table>\n",
       "<p>4806 rows × 4 columns</p>\n",
       "</div>"
      ],
      "text/plain": [
       "      movie_id                                     title  \\\n",
       "0        19995                                    Avatar   \n",
       "1          285  Pirates of the Caribbean: At World's End   \n",
       "2       206647                                   Spectre   \n",
       "3        49026                     The Dark Knight Rises   \n",
       "4        49529                               John Carter   \n",
       "...        ...                                       ...   \n",
       "4804      9367                               El Mariachi   \n",
       "4805     72766                                 Newlyweds   \n",
       "4806    231617                 Signed, Sealed, Delivered   \n",
       "4807    126186                          Shanghai Calling   \n",
       "4808     25975                         My Date with Drew   \n",
       "\n",
       "                                                   tags  popularity  \n",
       "0     in the 22nd century, a paraplegic marine is di...  150.437577  \n",
       "1     captain barbossa, long believed to be dead, ha...  139.082615  \n",
       "2     a cryptic message from bond’s past sends him o...  107.376788  \n",
       "3     following the death of district attorney harve...  112.312950  \n",
       "4     john carter is a war-weary, former military ca...   43.926995  \n",
       "...                                                 ...         ...  \n",
       "4804  el mariachi just wants to play his guitar and ...   14.269792  \n",
       "4805  a newlywed couple's honeymoon is upended by th...    0.642552  \n",
       "4806  \"signed, sealed, delivered\" introduces a dedic...    1.444476  \n",
       "4807  when ambitious new york attorney sam is sent t...    0.857008  \n",
       "4808  ever since the second grade when he first saw ...    1.929883  \n",
       "\n",
       "[4806 rows x 4 columns]"
      ]
     },
     "execution_count": 39,
     "metadata": {},
     "output_type": "execute_result"
    }
   ],
   "source": [
    "n_data.drop_duplicates()"
   ]
  },
  {
   "cell_type": "code",
   "execution_count": 40,
   "id": "108e0d54",
   "metadata": {
    "execution": {
     "iopub.execute_input": "2023-10-13T15:27:38.987584Z",
     "iopub.status.busy": "2023-10-13T15:27:38.987246Z",
     "iopub.status.idle": "2023-10-13T15:27:38.992925Z",
     "shell.execute_reply": "2023-10-13T15:27:38.992036Z"
    },
    "papermill": {
     "duration": 0.023404,
     "end_time": "2023-10-13T15:27:38.994916",
     "exception": false,
     "start_time": "2023-10-13T15:27:38.971512",
     "status": "completed"
    },
    "tags": []
   },
   "outputs": [
    {
     "data": {
      "text/plain": [
       "(4806, 4)"
      ]
     },
     "execution_count": 40,
     "metadata": {},
     "output_type": "execute_result"
    }
   ],
   "source": [
    "n_data.shape"
   ]
  },
  {
   "cell_type": "code",
   "execution_count": 41,
   "id": "f6601fd2",
   "metadata": {
    "execution": {
     "iopub.execute_input": "2023-10-13T15:27:39.025929Z",
     "iopub.status.busy": "2023-10-13T15:27:39.025345Z",
     "iopub.status.idle": "2023-10-13T15:27:40.884441Z",
     "shell.execute_reply": "2023-10-13T15:27:40.883617Z"
    },
    "papermill": {
     "duration": 1.877344,
     "end_time": "2023-10-13T15:27:40.886774",
     "exception": false,
     "start_time": "2023-10-13T15:27:39.009430",
     "status": "completed"
    },
    "tags": []
   },
   "outputs": [],
   "source": [
    "import nltk\n",
    "from nltk.stem.porter import PorterStemmer\n",
    "ps=PorterStemmer()"
   ]
  },
  {
   "cell_type": "code",
   "execution_count": 42,
   "id": "9c201e7c",
   "metadata": {
    "execution": {
     "iopub.execute_input": "2023-10-13T15:27:40.918077Z",
     "iopub.status.busy": "2023-10-13T15:27:40.917696Z",
     "iopub.status.idle": "2023-10-13T15:27:40.922401Z",
     "shell.execute_reply": "2023-10-13T15:27:40.921401Z"
    },
    "papermill": {
     "duration": 0.022433,
     "end_time": "2023-10-13T15:27:40.924290",
     "exception": false,
     "start_time": "2023-10-13T15:27:40.901857",
     "status": "completed"
    },
    "tags": []
   },
   "outputs": [],
   "source": [
    "def stem(text):\n",
    "    y=[]\n",
    "    \n",
    "    for i in text.split():\n",
    "        y.append(ps.stem(i))\n",
    "    return \" \".join(y)"
   ]
  },
  {
   "cell_type": "code",
   "execution_count": 43,
   "id": "81ba3c21",
   "metadata": {
    "execution": {
     "iopub.execute_input": "2023-10-13T15:27:40.955125Z",
     "iopub.status.busy": "2023-10-13T15:27:40.954753Z",
     "iopub.status.idle": "2023-10-13T15:27:46.454019Z",
     "shell.execute_reply": "2023-10-13T15:27:46.452828Z"
    },
    "papermill": {
     "duration": 5.516966,
     "end_time": "2023-10-13T15:27:46.456015",
     "exception": false,
     "start_time": "2023-10-13T15:27:40.939049",
     "status": "completed"
    },
    "tags": []
   },
   "outputs": [
    {
     "name": "stderr",
     "output_type": "stream",
     "text": [
      "C:\\Users\\aakas\\AppData\\Local\\Temp\\ipykernel_1564\\4062973674.py:1: SettingWithCopyWarning: \n",
      "A value is trying to be set on a copy of a slice from a DataFrame.\n",
      "Try using .loc[row_indexer,col_indexer] = value instead\n",
      "\n",
      "See the caveats in the documentation: https://pandas.pydata.org/pandas-docs/stable/user_guide/indexing.html#returning-a-view-versus-a-copy\n",
      "  n_data['tags']=n_data['tags'].apply(stem)\n"
     ]
    },
    {
     "data": {
      "text/plain": [
       "0       in the 22nd century, a parapleg marin is dispa...\n",
       "1       captain barbossa, long believ to be dead, ha c...\n",
       "2       a cryptic messag from bond’ past send him on a...\n",
       "3       follow the death of district attorney harvey d...\n",
       "4       john carter is a war-weary, former militari ca...\n",
       "                              ...                        \n",
       "4804    el mariachi just want to play hi guitar and ca...\n",
       "4805    a newlyw couple' honeymoon is upend by the arr...\n",
       "4806    \"signed, sealed, delivered\" introduc a dedic q...\n",
       "4807    when ambiti new york attorney sam is sent to s...\n",
       "4808    ever sinc the second grade when he first saw h...\n",
       "Name: tags, Length: 4806, dtype: object"
      ]
     },
     "execution_count": 43,
     "metadata": {},
     "output_type": "execute_result"
    }
   ],
   "source": [
    "n_data['tags']=n_data['tags'].apply(stem)\n",
    "n_data['tags']"
   ]
  },
  {
   "cell_type": "code",
   "execution_count": 44,
   "id": "bc99cdb5",
   "metadata": {
    "execution": {
     "iopub.execute_input": "2023-10-13T15:27:46.487874Z",
     "iopub.status.busy": "2023-10-13T15:27:46.487490Z",
     "iopub.status.idle": "2023-10-13T15:27:46.491984Z",
     "shell.execute_reply": "2023-10-13T15:27:46.490961Z"
    },
    "papermill": {
     "duration": 0.022749,
     "end_time": "2023-10-13T15:27:46.494249",
     "exception": false,
     "start_time": "2023-10-13T15:27:46.471500",
     "status": "completed"
    },
    "tags": []
   },
   "outputs": [],
   "source": [
    "#Text vectorization\n",
    "from sklearn.feature_extraction.text import CountVectorizer\n",
    "cv=CountVectorizer(max_features=5000,stop_words='english')"
   ]
  },
  {
   "cell_type": "code",
   "execution_count": 45,
   "id": "c8317a84",
   "metadata": {
    "execution": {
     "iopub.execute_input": "2023-10-13T15:27:46.525786Z",
     "iopub.status.busy": "2023-10-13T15:27:46.525453Z",
     "iopub.status.idle": "2023-10-13T15:27:46.531370Z",
     "shell.execute_reply": "2023-10-13T15:27:46.530430Z"
    },
    "papermill": {
     "duration": 0.023935,
     "end_time": "2023-10-13T15:27:46.533449",
     "exception": false,
     "start_time": "2023-10-13T15:27:46.509514",
     "status": "completed"
    },
    "tags": []
   },
   "outputs": [
    {
     "data": {
      "text/plain": [
       "'in the 22nd century, a parapleg marin is dispatch to the moon pandora on a uniqu mission, but becom torn between follow order and protect an alien civilization. cultureclash futur spacewar spacecoloni societi spacetravel futurist romanc space alien tribe alienplanet cgi marin soldier battl loveaffair antiwar powerrel mindandsoul 3d action adventur fantasi sciencefict samworthington zoesaldana sigourneyweav jamescameron'"
      ]
     },
     "execution_count": 45,
     "metadata": {},
     "output_type": "execute_result"
    }
   ],
   "source": [
    "n_data['tags'][0]"
   ]
  },
  {
   "cell_type": "code",
   "execution_count": 46,
   "id": "a2454c4a",
   "metadata": {
    "execution": {
     "iopub.execute_input": "2023-10-13T15:27:46.564913Z",
     "iopub.status.busy": "2023-10-13T15:27:46.564526Z",
     "iopub.status.idle": "2023-10-13T15:27:47.088188Z",
     "shell.execute_reply": "2023-10-13T15:27:47.087118Z"
    },
    "papermill": {
     "duration": 0.541964,
     "end_time": "2023-10-13T15:27:47.090632",
     "exception": false,
     "start_time": "2023-10-13T15:27:46.548668",
     "status": "completed"
    },
    "tags": []
   },
   "outputs": [],
   "source": [
    "vectors=cv.fit_transform(n_data['tags']).toarray()"
   ]
  },
  {
   "cell_type": "code",
   "execution_count": 47,
   "id": "7ee8a155",
   "metadata": {
    "execution": {
     "iopub.execute_input": "2023-10-13T15:27:47.122590Z",
     "iopub.status.busy": "2023-10-13T15:27:47.122207Z",
     "iopub.status.idle": "2023-10-13T15:27:47.129127Z",
     "shell.execute_reply": "2023-10-13T15:27:47.128112Z"
    },
    "papermill": {
     "duration": 0.025043,
     "end_time": "2023-10-13T15:27:47.131009",
     "exception": false,
     "start_time": "2023-10-13T15:27:47.105966",
     "status": "completed"
    },
    "tags": []
   },
   "outputs": [
    {
     "data": {
      "text/plain": [
       "array([[0, 0, 0, ..., 0, 0, 0],\n",
       "       [0, 0, 0, ..., 0, 0, 0],\n",
       "       [0, 0, 0, ..., 0, 0, 0],\n",
       "       ...,\n",
       "       [0, 0, 0, ..., 0, 0, 0],\n",
       "       [0, 0, 0, ..., 0, 0, 0],\n",
       "       [0, 0, 0, ..., 0, 0, 0]], dtype=int64)"
      ]
     },
     "execution_count": 47,
     "metadata": {},
     "output_type": "execute_result"
    }
   ],
   "source": [
    "vectors"
   ]
  },
  {
   "cell_type": "code",
   "execution_count": 48,
   "id": "f7399aea",
   "metadata": {
    "execution": {
     "iopub.execute_input": "2023-10-13T15:27:47.163650Z",
     "iopub.status.busy": "2023-10-13T15:27:47.163292Z",
     "iopub.status.idle": "2023-10-13T15:27:47.173947Z",
     "shell.execute_reply": "2023-10-13T15:27:47.172856Z"
    },
    "papermill": {
     "duration": 0.029289,
     "end_time": "2023-10-13T15:27:47.175926",
     "exception": false,
     "start_time": "2023-10-13T15:27:47.146637",
     "status": "completed"
    },
    "tags": []
   },
   "outputs": [
    {
     "data": {
      "text/plain": [
       "array(['000', '007', '10', ..., 'zone', 'zoo', 'zooeydeschanel'],\n",
       "      dtype=object)"
      ]
     },
     "execution_count": 48,
     "metadata": {},
     "output_type": "execute_result"
    }
   ],
   "source": [
    "cv.get_feature_names_out()"
   ]
  },
  {
   "cell_type": "code",
   "execution_count": 49,
   "id": "17dc62ee",
   "metadata": {
    "execution": {
     "iopub.execute_input": "2023-10-13T15:27:47.207526Z",
     "iopub.status.busy": "2023-10-13T15:27:47.207183Z",
     "iopub.status.idle": "2023-10-13T15:27:49.426719Z",
     "shell.execute_reply": "2023-10-13T15:27:49.425120Z"
    },
    "papermill": {
     "duration": 2.239482,
     "end_time": "2023-10-13T15:27:49.430570",
     "exception": false,
     "start_time": "2023-10-13T15:27:47.191088",
     "status": "completed"
    },
    "tags": []
   },
   "outputs": [],
   "source": [
    "from sklearn.metrics.pairwise import cosine_similarity\n",
    "similarity=cosine_similarity(vectors)"
   ]
  },
  {
   "cell_type": "code",
   "execution_count": 50,
   "id": "6ffd2093",
   "metadata": {
    "execution": {
     "iopub.execute_input": "2023-10-13T15:27:49.466922Z",
     "iopub.status.busy": "2023-10-13T15:27:49.466561Z",
     "iopub.status.idle": "2023-10-13T15:27:49.472321Z",
     "shell.execute_reply": "2023-10-13T15:27:49.471539Z"
    },
    "papermill": {
     "duration": 0.024177,
     "end_time": "2023-10-13T15:27:49.474299",
     "exception": false,
     "start_time": "2023-10-13T15:27:49.450122",
     "status": "completed"
    },
    "tags": []
   },
   "outputs": [
    {
     "data": {
      "text/plain": [
       "(4806, 4806)"
      ]
     },
     "execution_count": 50,
     "metadata": {},
     "output_type": "execute_result"
    }
   ],
   "source": [
    "similarity.shape"
   ]
  },
  {
   "cell_type": "code",
   "execution_count": 51,
   "id": "ba1b8771",
   "metadata": {
    "execution": {
     "iopub.execute_input": "2023-10-13T15:27:49.507157Z",
     "iopub.status.busy": "2023-10-13T15:27:49.506600Z",
     "iopub.status.idle": "2023-10-13T15:27:49.512014Z",
     "shell.execute_reply": "2023-10-13T15:27:49.511225Z"
    },
    "papermill": {
     "duration": 0.024354,
     "end_time": "2023-10-13T15:27:49.514022",
     "exception": false,
     "start_time": "2023-10-13T15:27:49.489668",
     "status": "completed"
    },
    "tags": []
   },
   "outputs": [
    {
     "data": {
      "text/plain": [
       "array([[1.        , 0.08346223, 0.0860309 , ..., 0.04499213, 0.        ,\n",
       "        0.        ],\n",
       "       [0.08346223, 1.        , 0.06063391, ..., 0.02378257, 0.        ,\n",
       "        0.02615329],\n",
       "       [0.0860309 , 0.06063391, 1.        , ..., 0.02451452, 0.        ,\n",
       "        0.        ],\n",
       "       ...,\n",
       "       [0.04499213, 0.02378257, 0.02451452, ..., 1.        , 0.03962144,\n",
       "        0.04229549],\n",
       "       [0.        , 0.        , 0.        , ..., 0.03962144, 1.        ,\n",
       "        0.08714204],\n",
       "       [0.        , 0.02615329, 0.        , ..., 0.04229549, 0.08714204,\n",
       "        1.        ]])"
      ]
     },
     "execution_count": 51,
     "metadata": {},
     "output_type": "execute_result"
    }
   ],
   "source": [
    "similarity"
   ]
  },
  {
   "cell_type": "code",
   "execution_count": 52,
   "id": "957ee86b",
   "metadata": {
    "execution": {
     "iopub.execute_input": "2023-10-13T15:27:49.546153Z",
     "iopub.status.busy": "2023-10-13T15:27:49.545722Z",
     "iopub.status.idle": "2023-10-13T15:27:49.552832Z",
     "shell.execute_reply": "2023-10-13T15:27:49.551902Z"
    },
    "papermill": {
     "duration": 0.02548,
     "end_time": "2023-10-13T15:27:49.554674",
     "exception": false,
     "start_time": "2023-10-13T15:27:49.529194",
     "status": "completed"
    },
    "tags": []
   },
   "outputs": [
    {
     "data": {
      "text/plain": [
       "(4806,)"
      ]
     },
     "execution_count": 52,
     "metadata": {},
     "output_type": "execute_result"
    }
   ],
   "source": [
    "similarity[0].shape"
   ]
  },
  {
   "cell_type": "code",
   "execution_count": 66,
   "id": "393fca2e",
   "metadata": {
    "execution": {
     "iopub.execute_input": "2023-10-13T15:27:49.587766Z",
     "iopub.status.busy": "2023-10-13T15:27:49.587395Z",
     "iopub.status.idle": "2023-10-13T15:27:49.594066Z",
     "shell.execute_reply": "2023-10-13T15:27:49.593043Z"
    },
    "papermill": {
     "duration": 0.025819,
     "end_time": "2023-10-13T15:27:49.595964",
     "exception": false,
     "start_time": "2023-10-13T15:27:49.570145",
     "status": "completed"
    },
    "tags": []
   },
   "outputs": [],
   "source": [
    "def recommend(movie):\n",
    "    movie_idx=n_data[n_data['title']==movie].index[0]\n",
    "    popular=n_data['popularity'][movie_idx]\n",
    "    distances=similarity[movie_idx]\n",
    "    movie_list=sorted(list(enumerate(distances)),reverse=True,key=lambda x:x[1])[1:]\n",
    "    #print(movie_list)\n",
    "    flag=0\n",
    "    for i in movie_list:\n",
    "        \n",
    "        p=n_data['popularity'][i[0]]\n",
    "        if(p>=popular):\n",
    "            print(n_data['title'][i[0]])\n",
    "            flag+=1\n",
    "        if(flag==6):\n",
    "            break\n",
    "    "
   ]
  },
  {
   "cell_type": "code",
   "execution_count": 67,
   "id": "dc62659b",
   "metadata": {
    "execution": {
     "iopub.execute_input": "2023-10-13T15:27:49.629474Z",
     "iopub.status.busy": "2023-10-13T15:27:49.628865Z",
     "iopub.status.idle": "2023-10-13T15:27:49.638881Z",
     "shell.execute_reply": "2023-10-13T15:27:49.637778Z"
    },
    "papermill": {
     "duration": 0.029405,
     "end_time": "2023-10-13T15:27:49.640839",
     "exception": false,
     "start_time": "2023-10-13T15:27:49.611434",
     "status": "completed"
    },
    "tags": []
   },
   "outputs": [
    {
     "name": "stdout",
     "output_type": "stream",
     "text": [
      "Riddick\n",
      "Battleship\n",
      "Chappie\n",
      "Journey to the Center of the Earth\n",
      "The Amazing Spider-Man\n",
      "The Truman Show\n"
     ]
    }
   ],
   "source": [
    "recommend('John Carter')"
   ]
  },
  {
   "cell_type": "code",
   "execution_count": 55,
   "id": "b4efd44b",
   "metadata": {
    "papermill": {
     "duration": 0.015191,
     "end_time": "2023-10-13T15:27:49.671517",
     "exception": false,
     "start_time": "2023-10-13T15:27:49.656326",
     "status": "completed"
    },
    "tags": []
   },
   "outputs": [],
   "source": [
    "import pickle"
   ]
  },
  {
   "cell_type": "code",
   "execution_count": 60,
   "id": "f54ca20e",
   "metadata": {
    "papermill": {
     "duration": 0.014854,
     "end_time": "2023-10-13T15:27:49.701561",
     "exception": false,
     "start_time": "2023-10-13T15:27:49.686707",
     "status": "completed"
    },
    "tags": []
   },
   "outputs": [],
   "source": [
    "pickle.dump(n_data.to_dict(),open('movies_dict.pkl','wb'))"
   ]
  },
  {
   "cell_type": "code",
   "execution_count": 61,
   "id": "593a77aa",
   "metadata": {},
   "outputs": [
    {
     "data": {
      "text/html": [
       "<div>\n",
       "<style scoped>\n",
       "    .dataframe tbody tr th:only-of-type {\n",
       "        vertical-align: middle;\n",
       "    }\n",
       "\n",
       "    .dataframe tbody tr th {\n",
       "        vertical-align: top;\n",
       "    }\n",
       "\n",
       "    .dataframe thead th {\n",
       "        text-align: right;\n",
       "    }\n",
       "</style>\n",
       "<table border=\"1\" class=\"dataframe\">\n",
       "  <thead>\n",
       "    <tr style=\"text-align: right;\">\n",
       "      <th></th>\n",
       "      <th>movie_id</th>\n",
       "      <th>title</th>\n",
       "      <th>tags</th>\n",
       "      <th>popularity</th>\n",
       "    </tr>\n",
       "  </thead>\n",
       "  <tbody>\n",
       "    <tr>\n",
       "      <th>0</th>\n",
       "      <td>19995</td>\n",
       "      <td>Avatar</td>\n",
       "      <td>in the 22nd century, a parapleg marin is dispa...</td>\n",
       "      <td>150.437577</td>\n",
       "    </tr>\n",
       "    <tr>\n",
       "      <th>1</th>\n",
       "      <td>285</td>\n",
       "      <td>Pirates of the Caribbean: At World's End</td>\n",
       "      <td>captain barbossa, long believ to be dead, ha c...</td>\n",
       "      <td>139.082615</td>\n",
       "    </tr>\n",
       "    <tr>\n",
       "      <th>2</th>\n",
       "      <td>206647</td>\n",
       "      <td>Spectre</td>\n",
       "      <td>a cryptic messag from bond’ past send him on a...</td>\n",
       "      <td>107.376788</td>\n",
       "    </tr>\n",
       "    <tr>\n",
       "      <th>3</th>\n",
       "      <td>49026</td>\n",
       "      <td>The Dark Knight Rises</td>\n",
       "      <td>follow the death of district attorney harvey d...</td>\n",
       "      <td>112.312950</td>\n",
       "    </tr>\n",
       "    <tr>\n",
       "      <th>4</th>\n",
       "      <td>49529</td>\n",
       "      <td>John Carter</td>\n",
       "      <td>john carter is a war-weary, former militari ca...</td>\n",
       "      <td>43.926995</td>\n",
       "    </tr>\n",
       "    <tr>\n",
       "      <th>...</th>\n",
       "      <td>...</td>\n",
       "      <td>...</td>\n",
       "      <td>...</td>\n",
       "      <td>...</td>\n",
       "    </tr>\n",
       "    <tr>\n",
       "      <th>4804</th>\n",
       "      <td>9367</td>\n",
       "      <td>El Mariachi</td>\n",
       "      <td>el mariachi just want to play hi guitar and ca...</td>\n",
       "      <td>14.269792</td>\n",
       "    </tr>\n",
       "    <tr>\n",
       "      <th>4805</th>\n",
       "      <td>72766</td>\n",
       "      <td>Newlyweds</td>\n",
       "      <td>a newlyw couple' honeymoon is upend by the arr...</td>\n",
       "      <td>0.642552</td>\n",
       "    </tr>\n",
       "    <tr>\n",
       "      <th>4806</th>\n",
       "      <td>231617</td>\n",
       "      <td>Signed, Sealed, Delivered</td>\n",
       "      <td>\"signed, sealed, delivered\" introduc a dedic q...</td>\n",
       "      <td>1.444476</td>\n",
       "    </tr>\n",
       "    <tr>\n",
       "      <th>4807</th>\n",
       "      <td>126186</td>\n",
       "      <td>Shanghai Calling</td>\n",
       "      <td>when ambiti new york attorney sam is sent to s...</td>\n",
       "      <td>0.857008</td>\n",
       "    </tr>\n",
       "    <tr>\n",
       "      <th>4808</th>\n",
       "      <td>25975</td>\n",
       "      <td>My Date with Drew</td>\n",
       "      <td>ever sinc the second grade when he first saw h...</td>\n",
       "      <td>1.929883</td>\n",
       "    </tr>\n",
       "  </tbody>\n",
       "</table>\n",
       "<p>4806 rows × 4 columns</p>\n",
       "</div>"
      ],
      "text/plain": [
       "      movie_id                                     title  \\\n",
       "0        19995                                    Avatar   \n",
       "1          285  Pirates of the Caribbean: At World's End   \n",
       "2       206647                                   Spectre   \n",
       "3        49026                     The Dark Knight Rises   \n",
       "4        49529                               John Carter   \n",
       "...        ...                                       ...   \n",
       "4804      9367                               El Mariachi   \n",
       "4805     72766                                 Newlyweds   \n",
       "4806    231617                 Signed, Sealed, Delivered   \n",
       "4807    126186                          Shanghai Calling   \n",
       "4808     25975                         My Date with Drew   \n",
       "\n",
       "                                                   tags  popularity  \n",
       "0     in the 22nd century, a parapleg marin is dispa...  150.437577  \n",
       "1     captain barbossa, long believ to be dead, ha c...  139.082615  \n",
       "2     a cryptic messag from bond’ past send him on a...  107.376788  \n",
       "3     follow the death of district attorney harvey d...  112.312950  \n",
       "4     john carter is a war-weary, former militari ca...   43.926995  \n",
       "...                                                 ...         ...  \n",
       "4804  el mariachi just want to play hi guitar and ca...   14.269792  \n",
       "4805  a newlyw couple' honeymoon is upend by the arr...    0.642552  \n",
       "4806  \"signed, sealed, delivered\" introduc a dedic q...    1.444476  \n",
       "4807  when ambiti new york attorney sam is sent to s...    0.857008  \n",
       "4808  ever sinc the second grade when he first saw h...    1.929883  \n",
       "\n",
       "[4806 rows x 4 columns]"
      ]
     },
     "execution_count": 61,
     "metadata": {},
     "output_type": "execute_result"
    }
   ],
   "source": [
    "n_data"
   ]
  },
  {
   "cell_type": "code",
   "execution_count": 62,
   "id": "4f79d86f",
   "metadata": {},
   "outputs": [
    {
     "data": {
      "text/plain": [
       "array(['Avatar', \"Pirates of the Caribbean: At World's End\", 'Spectre',\n",
       "       ..., 'Signed, Sealed, Delivered', 'Shanghai Calling',\n",
       "       'My Date with Drew'], dtype=object)"
      ]
     },
     "execution_count": 62,
     "metadata": {},
     "output_type": "execute_result"
    }
   ],
   "source": [
    "n_data['title'].values"
   ]
  },
  {
   "cell_type": "code",
   "execution_count": 63,
   "id": "71238b83",
   "metadata": {},
   "outputs": [],
   "source": [
    "pickle.dump(similarity,open('simi.pkl','wb'))"
   ]
  },
  {
   "cell_type": "code",
   "execution_count": null,
   "id": "7782d527",
   "metadata": {},
   "outputs": [],
   "source": []
  }
 ],
 "metadata": {
  "kernelspec": {
   "display_name": "Python 3 (ipykernel)",
   "language": "python",
   "name": "python3"
  },
  "language_info": {
   "codemirror_mode": {
    "name": "ipython",
    "version": 3
   },
   "file_extension": ".py",
   "mimetype": "text/x-python",
   "name": "python",
   "nbconvert_exporter": "python",
   "pygments_lexer": "ipython3",
   "version": "3.10.1"
  },
  "papermill": {
   "default_parameters": {},
   "duration": 24.989521,
   "end_time": "2023-10-13T15:27:50.438936",
   "environment_variables": {},
   "exception": null,
   "input_path": "__notebook__.ipynb",
   "output_path": "__notebook__.ipynb",
   "parameters": {},
   "start_time": "2023-10-13T15:27:25.449415",
   "version": "2.4.0"
  }
 },
 "nbformat": 4,
 "nbformat_minor": 5
}
